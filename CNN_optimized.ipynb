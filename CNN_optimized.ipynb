{
  "nbformat": 4,
  "nbformat_minor": 0,
  "metadata": {
    "colab": {
      "provenance": [],
      "toc_visible": true,
      "include_colab_link": true
    },
    "kernelspec": {
      "name": "python3",
      "display_name": "Python 3"
    }
  },
  "cells": [
    {
      "cell_type": "markdown",
      "metadata": {
        "id": "view-in-github",
        "colab_type": "text"
      },
      "source": [
        "<a href=\"https://colab.research.google.com/github/Muntasir2179/Deep-Learning/blob/Convolutional-Neural_Network-(CNN)/CNN_optimized.ipynb\" target=\"_parent\"><img src=\"https://colab.research.google.com/assets/colab-badge.svg\" alt=\"Open In Colab\"/></a>"
      ]
    },
    {
      "cell_type": "markdown",
      "metadata": {
        "id": "3DR-eO17geWu"
      },
      "source": [
        "# Convolutional Neural Network"
      ]
    },
    {
      "cell_type": "markdown",
      "metadata": {
        "id": "EMefrVPCg-60"
      },
      "source": [
        "### Importing the libraries"
      ]
    },
    {
      "cell_type": "code",
      "metadata": {
        "id": "sCV30xyVhFbE"
      },
      "source": [
        "import tensorflow as tf\n",
        "from keras.preprocessing.image import ImageDataGenerator"
      ],
      "execution_count": null,
      "outputs": []
    },
    {
      "cell_type": "code",
      "metadata": {
        "id": "FIleuCAjoFD8",
        "colab": {
          "base_uri": "https://localhost:8080/",
          "height": 36
        },
        "outputId": "847aa384-7bc4-4d91-8411-8e973ef5eb84"
      },
      "source": [
        "tf.__version__"
      ],
      "execution_count": null,
      "outputs": [
        {
          "output_type": "execute_result",
          "data": {
            "text/plain": [
              "'2.11.0'"
            ],
            "application/vnd.google.colaboratory.intrinsic+json": {
              "type": "string"
            }
          },
          "metadata": {},
          "execution_count": 2
        }
      ]
    },
    {
      "cell_type": "markdown",
      "source": [
        "## Getting the dataset from drive"
      ],
      "metadata": {
        "id": "cg7aEdtpDXi8"
      }
    },
    {
      "cell_type": "code",
      "source": [
        "from google.colab import drive\n",
        "drive.mount('/content/drive')"
      ],
      "metadata": {
        "colab": {
          "base_uri": "https://localhost:8080/"
        },
        "id": "yU2rCMBfI_IB",
        "outputId": "4ac63873-18e5-4a1f-f909-d448119fe199"
      },
      "execution_count": null,
      "outputs": [
        {
          "output_type": "stream",
          "name": "stdout",
          "text": [
            "Drive already mounted at /content/drive; to attempt to forcibly remount, call drive.mount(\"/content/drive\", force_remount=True).\n"
          ]
        }
      ]
    },
    {
      "cell_type": "code",
      "source": [
        "!unzip /content/drive/MyDrive/Datasets/dataset.zip"
      ],
      "metadata": {
        "id": "V7DSkufhJCLG"
      },
      "execution_count": null,
      "outputs": []
    },
    {
      "cell_type": "markdown",
      "metadata": {
        "id": "oxQxCBWyoGPE"
      },
      "source": [
        "## Part 1 - Data Preprocessing"
      ]
    },
    {
      "cell_type": "markdown",
      "metadata": {
        "id": "MvE-heJNo3GG"
      },
      "source": [
        "### Preprocessing the Training set"
      ]
    },
    {
      "cell_type": "code",
      "metadata": {
        "id": "0koUcJMJpEBD",
        "colab": {
          "base_uri": "https://localhost:8080/"
        },
        "outputId": "99d55f0e-a2da-4d41-c637-0e27de71c5fb"
      },
      "source": [
        "train_datagen = ImageDataGenerator(rescale = 1./255,\n",
        "                                   shear_range = 0.2,\n",
        "                                   zoom_range = 0.2,\n",
        "                                   horizontal_flip = True)\n",
        "training_set = train_datagen.flow_from_directory('dataset/test_set',\n",
        "                                                 target_size = (64, 64),\n",
        "                                                 batch_size = 32,\n",
        "                                                 class_mode = 'binary')"
      ],
      "execution_count": null,
      "outputs": [
        {
          "output_type": "stream",
          "name": "stdout",
          "text": [
            "Found 2000 images belonging to 2 classes.\n"
          ]
        }
      ]
    },
    {
      "cell_type": "markdown",
      "metadata": {
        "id": "mrCMmGw9pHys"
      },
      "source": [
        "### Preprocessing the Test set"
      ]
    },
    {
      "cell_type": "code",
      "metadata": {
        "id": "SH4WzfOhpKc3",
        "colab": {
          "base_uri": "https://localhost:8080/"
        },
        "outputId": "b544ed38-a2db-4772-ecd2-d28bed1c169c"
      },
      "source": [
        "test_datagen = ImageDataGenerator(rescale = 1./255)\n",
        "test_set = test_datagen.flow_from_directory('dataset/test_set',\n",
        "                                            target_size = (64, 64),\n",
        "                                            batch_size = 32,\n",
        "                                            class_mode = 'binary')"
      ],
      "execution_count": null,
      "outputs": [
        {
          "output_type": "stream",
          "name": "stdout",
          "text": [
            "Found 2000 images belonging to 2 classes.\n"
          ]
        }
      ]
    },
    {
      "cell_type": "markdown",
      "metadata": {
        "id": "af8O4l90gk7B"
      },
      "source": [
        "## Part 2 - Building the CNN"
      ]
    },
    {
      "cell_type": "markdown",
      "metadata": {
        "id": "ces1gXY2lmoX"
      },
      "source": [
        "### Initialising the CNN"
      ]
    },
    {
      "cell_type": "code",
      "metadata": {
        "id": "SAUt4UMPlhLS"
      },
      "source": [
        "cnn = tf.keras.models.Sequential()"
      ],
      "execution_count": null,
      "outputs": []
    },
    {
      "cell_type": "markdown",
      "metadata": {
        "id": "u5YJj_XMl5LF"
      },
      "source": [
        "### Step 1 - Convolution"
      ]
    },
    {
      "cell_type": "code",
      "metadata": {
        "id": "XPzPrMckl-hV"
      },
      "source": [
        "cnn.add(tf.keras.layers.Conv2D(filters=32, kernel_size=3, activation='relu', input_shape=[64, 64, 3]))"
      ],
      "execution_count": null,
      "outputs": []
    },
    {
      "cell_type": "markdown",
      "metadata": {
        "id": "tf87FpvxmNOJ"
      },
      "source": [
        "### Step 2 - Pooling"
      ]
    },
    {
      "cell_type": "code",
      "metadata": {
        "id": "ncpqPl69mOac"
      },
      "source": [
        "cnn.add(tf.keras.layers.MaxPool2D(pool_size=2, strides=2))"
      ],
      "execution_count": null,
      "outputs": []
    },
    {
      "cell_type": "markdown",
      "metadata": {
        "id": "xaTOgD8rm4mU"
      },
      "source": [
        "### Adding a second convolutional layer"
      ]
    },
    {
      "cell_type": "code",
      "metadata": {
        "id": "i_-FZjn_m8gk"
      },
      "source": [
        "cnn.add(tf.keras.layers.Conv2D(filters=32, kernel_size=3, activation='relu'))\n",
        "cnn.add(tf.keras.layers.MaxPool2D(pool_size=2, strides=2))"
      ],
      "execution_count": null,
      "outputs": []
    },
    {
      "cell_type": "markdown",
      "metadata": {
        "id": "tmiEuvTunKfk"
      },
      "source": [
        "### Step 3 - Flattening"
      ]
    },
    {
      "cell_type": "code",
      "metadata": {
        "id": "6AZeOGCvnNZn"
      },
      "source": [
        "cnn.add(tf.keras.layers.Flatten())"
      ],
      "execution_count": null,
      "outputs": []
    },
    {
      "cell_type": "markdown",
      "metadata": {
        "id": "dAoSECOm203v"
      },
      "source": [
        "### Step 4 - Full Connection"
      ]
    },
    {
      "cell_type": "code",
      "metadata": {
        "id": "8GtmUlLd26Nq"
      },
      "source": [
        "cnn.add(tf.keras.layers.Dense(units=128, activation='relu'))"
      ],
      "execution_count": null,
      "outputs": []
    },
    {
      "cell_type": "markdown",
      "metadata": {
        "id": "yTldFvbX28Na"
      },
      "source": [
        "### Step 5 - Output Layer"
      ]
    },
    {
      "cell_type": "code",
      "metadata": {
        "id": "1p_Zj1Mc3Ko_"
      },
      "source": [
        "cnn.add(tf.keras.layers.Dense(units=1, activation='sigmoid'))"
      ],
      "execution_count": null,
      "outputs": []
    },
    {
      "cell_type": "markdown",
      "metadata": {
        "id": "D6XkI90snSDl"
      },
      "source": [
        "## Part 3 - Training the CNN"
      ]
    },
    {
      "cell_type": "markdown",
      "metadata": {
        "id": "vfrFQACEnc6i"
      },
      "source": [
        "### Compiling the CNN"
      ]
    },
    {
      "cell_type": "code",
      "metadata": {
        "id": "NALksrNQpUlJ"
      },
      "source": [
        "cnn.compile(optimizer = 'adam', loss = 'binary_crossentropy', metrics = ['accuracy'])"
      ],
      "execution_count": null,
      "outputs": []
    },
    {
      "cell_type": "markdown",
      "metadata": {
        "id": "ehS-v3MIpX2h"
      },
      "source": [
        "### Training the CNN on the Training set and evaluating it on the Test set"
      ]
    },
    {
      "cell_type": "code",
      "metadata": {
        "id": "XUj1W4PJptta",
        "colab": {
          "base_uri": "https://localhost:8080/"
        },
        "outputId": "e8666ff4-12c6-4cc3-c1db-3cafc733b389"
      },
      "source": [
        "cnn.fit(x = training_set, validation_data = test_set, epochs = 25)"
      ],
      "execution_count": null,
      "outputs": [
        {
          "output_type": "stream",
          "name": "stdout",
          "text": [
            "Epoch 1/25\n",
            "63/63 [==============================] - 31s 462ms/step - loss: 0.7080 - accuracy: 0.5035 - val_loss: 0.6881 - val_accuracy: 0.6095\n",
            "Epoch 2/25\n",
            "63/63 [==============================] - 31s 491ms/step - loss: 0.6826 - accuracy: 0.5795 - val_loss: 0.6457 - val_accuracy: 0.6810\n",
            "Epoch 3/25\n",
            "63/63 [==============================] - 30s 477ms/step - loss: 0.6499 - accuracy: 0.6190 - val_loss: 0.6278 - val_accuracy: 0.6445\n",
            "Epoch 4/25\n",
            "63/63 [==============================] - 30s 467ms/step - loss: 0.6206 - accuracy: 0.6615 - val_loss: 0.5853 - val_accuracy: 0.7040\n",
            "Epoch 5/25\n",
            "63/63 [==============================] - 27s 421ms/step - loss: 0.5976 - accuracy: 0.6815 - val_loss: 0.5567 - val_accuracy: 0.7065\n",
            "Epoch 6/25\n",
            "63/63 [==============================] - 29s 462ms/step - loss: 0.5686 - accuracy: 0.7095 - val_loss: 0.5481 - val_accuracy: 0.7060\n",
            "Epoch 7/25\n",
            "63/63 [==============================] - 27s 431ms/step - loss: 0.5658 - accuracy: 0.7145 - val_loss: 0.5336 - val_accuracy: 0.7220\n",
            "Epoch 8/25\n",
            "63/63 [==============================] - 40s 640ms/step - loss: 0.5581 - accuracy: 0.7105 - val_loss: 0.4951 - val_accuracy: 0.7725\n",
            "Epoch 9/25\n",
            "63/63 [==============================] - 33s 528ms/step - loss: 0.5362 - accuracy: 0.7350 - val_loss: 0.4751 - val_accuracy: 0.7805\n",
            "Epoch 10/25\n",
            "63/63 [==============================] - 29s 458ms/step - loss: 0.5129 - accuracy: 0.7420 - val_loss: 0.4386 - val_accuracy: 0.8005\n",
            "Epoch 11/25\n",
            "63/63 [==============================] - 29s 461ms/step - loss: 0.4975 - accuracy: 0.7505 - val_loss: 0.4496 - val_accuracy: 0.7935\n",
            "Epoch 12/25\n",
            "63/63 [==============================] - 29s 457ms/step - loss: 0.4710 - accuracy: 0.7705 - val_loss: 0.4153 - val_accuracy: 0.8200\n",
            "Epoch 13/25\n",
            "63/63 [==============================] - 30s 471ms/step - loss: 0.4656 - accuracy: 0.7780 - val_loss: 0.3894 - val_accuracy: 0.8185\n",
            "Epoch 14/25\n",
            "63/63 [==============================] - 29s 468ms/step - loss: 0.4509 - accuracy: 0.7920 - val_loss: 0.3694 - val_accuracy: 0.8450\n",
            "Epoch 15/25\n",
            "63/63 [==============================] - 29s 459ms/step - loss: 0.4267 - accuracy: 0.8005 - val_loss: 0.3634 - val_accuracy: 0.8380\n",
            "Epoch 16/25\n",
            "63/63 [==============================] - 28s 452ms/step - loss: 0.4115 - accuracy: 0.8145 - val_loss: 0.3301 - val_accuracy: 0.8615\n",
            "Epoch 17/25\n",
            "63/63 [==============================] - 32s 505ms/step - loss: 0.4061 - accuracy: 0.8010 - val_loss: 0.3611 - val_accuracy: 0.8405\n",
            "Epoch 18/25\n",
            "63/63 [==============================] - 29s 469ms/step - loss: 0.3875 - accuracy: 0.8190 - val_loss: 0.3279 - val_accuracy: 0.8490\n",
            "Epoch 19/25\n",
            "63/63 [==============================] - 30s 469ms/step - loss: 0.3765 - accuracy: 0.8290 - val_loss: 0.3089 - val_accuracy: 0.8695\n",
            "Epoch 20/25\n",
            "63/63 [==============================] - 29s 456ms/step - loss: 0.3531 - accuracy: 0.8405 - val_loss: 0.2962 - val_accuracy: 0.8715\n",
            "Epoch 21/25\n",
            "63/63 [==============================] - 29s 465ms/step - loss: 0.3629 - accuracy: 0.8310 - val_loss: 0.2777 - val_accuracy: 0.8820\n",
            "Epoch 22/25\n",
            "63/63 [==============================] - 29s 461ms/step - loss: 0.3364 - accuracy: 0.8575 - val_loss: 0.2555 - val_accuracy: 0.8900\n",
            "Epoch 23/25\n",
            "63/63 [==============================] - 29s 461ms/step - loss: 0.3258 - accuracy: 0.8585 - val_loss: 0.2492 - val_accuracy: 0.9050\n",
            "Epoch 24/25\n",
            "63/63 [==============================] - 36s 578ms/step - loss: 0.3165 - accuracy: 0.8590 - val_loss: 0.2432 - val_accuracy: 0.9010\n",
            "Epoch 25/25\n",
            "63/63 [==============================] - 32s 509ms/step - loss: 0.2920 - accuracy: 0.8715 - val_loss: 0.2429 - val_accuracy: 0.8895\n"
          ]
        },
        {
          "output_type": "execute_result",
          "data": {
            "text/plain": [
              "<keras.callbacks.History at 0x7fb1ce3ded30>"
            ]
          },
          "metadata": {},
          "execution_count": 14
        }
      ]
    },
    {
      "cell_type": "markdown",
      "metadata": {
        "id": "U3PZasO0006Z"
      },
      "source": [
        "## Part 4 - Making a single prediction"
      ]
    },
    {
      "cell_type": "code",
      "metadata": {
        "id": "gsSiWEJY1BPB",
        "colab": {
          "base_uri": "https://localhost:8080/"
        },
        "outputId": "dee081da-0487-481a-d2ff-c9fdb5a22435"
      },
      "source": [
        "import numpy as np\n",
        "import keras.utils as image\n",
        "\n",
        "test_image = image.load_img('dataset/single_prediction/cat_or_dog_2.jpg', target_size = (64, 64))\n",
        "test_image = image.img_to_array(test_image)\n",
        "test_image = np.expand_dims(test_image, axis = 0)\n",
        "result = cnn.predict(test_image)\n",
        "training_set.class_indices\n",
        "\n",
        "if result[0][0] == 1:\n",
        "  prediction = 'dog'\n",
        "else:\n",
        "  prediction = 'cat'"
      ],
      "execution_count": null,
      "outputs": [
        {
          "output_type": "stream",
          "name": "stdout",
          "text": [
            "1/1 [==============================] - 0s 35ms/step\n"
          ]
        }
      ]
    },
    {
      "cell_type": "code",
      "source": [
        "print(prediction)"
      ],
      "metadata": {
        "colab": {
          "base_uri": "https://localhost:8080/"
        },
        "id": "qtRTzn9-O4Mx",
        "outputId": "1e38a913-8337-444b-8865-9cf706921499"
      },
      "execution_count": null,
      "outputs": [
        {
          "output_type": "stream",
          "name": "stdout",
          "text": [
            "dog\n"
          ]
        }
      ]
    }
  ]
}