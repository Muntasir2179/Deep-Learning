{
  "nbformat": 4,
  "nbformat_minor": 0,
  "metadata": {
    "colab": {
      "provenance": [],
      "toc_visible": true,
      "gpuType": "T4",
      "authorship_tag": "ABX9TyMiTkKB92BpOlHW5BLXObAB",
      "include_colab_link": true
    },
    "kernelspec": {
      "name": "python3",
      "display_name": "Python 3"
    },
    "language_info": {
      "name": "python"
    },
    "accelerator": "GPU"
  },
  "cells": [
    {
      "cell_type": "markdown",
      "metadata": {
        "id": "view-in-github",
        "colab_type": "text"
      },
      "source": [
        "<a href=\"https://colab.research.google.com/github/Muntasir2179/Deep-Learning/blob/Recurrent_Neural_Network-(RNN)/Recurrent_Neural_Network_(RNN).ipynb\" target=\"_parent\"><img src=\"https://colab.research.google.com/assets/colab-badge.svg\" alt=\"Open In Colab\"/></a>"
      ]
    },
    {
      "cell_type": "markdown",
      "source": [
        "## Importing libraries"
      ],
      "metadata": {
        "id": "1nEhPODj6PLU"
      }
    },
    {
      "cell_type": "code",
      "execution_count": 1,
      "metadata": {
        "id": "acAw125TIqK5"
      },
      "outputs": [],
      "source": [
        "import pandas as pd\n",
        "import numpy as np\n",
        "import matplotlib.pyplot as plt"
      ]
    },
    {
      "cell_type": "code",
      "source": [
        "dataset_train = pd.read_csv('Google_Stock_Price_Train.csv')\n",
        "training_set = dataset_train.iloc[:, 1:2].values"
      ],
      "metadata": {
        "id": "w0-qqO7yI6PE"
      },
      "execution_count": 2,
      "outputs": []
    },
    {
      "cell_type": "code",
      "source": [
        "dataset_train.head()"
      ],
      "metadata": {
        "colab": {
          "base_uri": "https://localhost:8080/",
          "height": 206
        },
        "id": "aWBNEGx0JCOb",
        "outputId": "58455bd0-129a-4adf-9c5c-2b7e583c76a2"
      },
      "execution_count": 3,
      "outputs": [
        {
          "output_type": "execute_result",
          "data": {
            "text/plain": [
              "       Date    Open    High     Low   Close      Volume\n",
              "0  1/3/2012  325.25  332.83  324.97  663.59   7,380,500\n",
              "1  1/4/2012  331.27  333.87  329.08  666.45   5,749,400\n",
              "2  1/5/2012  329.83  330.75  326.89  657.21   6,590,300\n",
              "3  1/6/2012  328.34  328.77  323.68  648.24   5,405,900\n",
              "4  1/9/2012  322.04  322.29  309.46  620.76  11,688,800"
            ],
            "text/html": [
              "\n",
              "  <div id=\"df-87fe97e2-5307-4e27-865d-9f5cf4e7c003\">\n",
              "    <div class=\"colab-df-container\">\n",
              "      <div>\n",
              "<style scoped>\n",
              "    .dataframe tbody tr th:only-of-type {\n",
              "        vertical-align: middle;\n",
              "    }\n",
              "\n",
              "    .dataframe tbody tr th {\n",
              "        vertical-align: top;\n",
              "    }\n",
              "\n",
              "    .dataframe thead th {\n",
              "        text-align: right;\n",
              "    }\n",
              "</style>\n",
              "<table border=\"1\" class=\"dataframe\">\n",
              "  <thead>\n",
              "    <tr style=\"text-align: right;\">\n",
              "      <th></th>\n",
              "      <th>Date</th>\n",
              "      <th>Open</th>\n",
              "      <th>High</th>\n",
              "      <th>Low</th>\n",
              "      <th>Close</th>\n",
              "      <th>Volume</th>\n",
              "    </tr>\n",
              "  </thead>\n",
              "  <tbody>\n",
              "    <tr>\n",
              "      <th>0</th>\n",
              "      <td>1/3/2012</td>\n",
              "      <td>325.25</td>\n",
              "      <td>332.83</td>\n",
              "      <td>324.97</td>\n",
              "      <td>663.59</td>\n",
              "      <td>7,380,500</td>\n",
              "    </tr>\n",
              "    <tr>\n",
              "      <th>1</th>\n",
              "      <td>1/4/2012</td>\n",
              "      <td>331.27</td>\n",
              "      <td>333.87</td>\n",
              "      <td>329.08</td>\n",
              "      <td>666.45</td>\n",
              "      <td>5,749,400</td>\n",
              "    </tr>\n",
              "    <tr>\n",
              "      <th>2</th>\n",
              "      <td>1/5/2012</td>\n",
              "      <td>329.83</td>\n",
              "      <td>330.75</td>\n",
              "      <td>326.89</td>\n",
              "      <td>657.21</td>\n",
              "      <td>6,590,300</td>\n",
              "    </tr>\n",
              "    <tr>\n",
              "      <th>3</th>\n",
              "      <td>1/6/2012</td>\n",
              "      <td>328.34</td>\n",
              "      <td>328.77</td>\n",
              "      <td>323.68</td>\n",
              "      <td>648.24</td>\n",
              "      <td>5,405,900</td>\n",
              "    </tr>\n",
              "    <tr>\n",
              "      <th>4</th>\n",
              "      <td>1/9/2012</td>\n",
              "      <td>322.04</td>\n",
              "      <td>322.29</td>\n",
              "      <td>309.46</td>\n",
              "      <td>620.76</td>\n",
              "      <td>11,688,800</td>\n",
              "    </tr>\n",
              "  </tbody>\n",
              "</table>\n",
              "</div>\n",
              "      <button class=\"colab-df-convert\" onclick=\"convertToInteractive('df-87fe97e2-5307-4e27-865d-9f5cf4e7c003')\"\n",
              "              title=\"Convert this dataframe to an interactive table.\"\n",
              "              style=\"display:none;\">\n",
              "        \n",
              "  <svg xmlns=\"http://www.w3.org/2000/svg\" height=\"24px\"viewBox=\"0 0 24 24\"\n",
              "       width=\"24px\">\n",
              "    <path d=\"M0 0h24v24H0V0z\" fill=\"none\"/>\n",
              "    <path d=\"M18.56 5.44l.94 2.06.94-2.06 2.06-.94-2.06-.94-.94-2.06-.94 2.06-2.06.94zm-11 1L8.5 8.5l.94-2.06 2.06-.94-2.06-.94L8.5 2.5l-.94 2.06-2.06.94zm10 10l.94 2.06.94-2.06 2.06-.94-2.06-.94-.94-2.06-.94 2.06-2.06.94z\"/><path d=\"M17.41 7.96l-1.37-1.37c-.4-.4-.92-.59-1.43-.59-.52 0-1.04.2-1.43.59L10.3 9.45l-7.72 7.72c-.78.78-.78 2.05 0 2.83L4 21.41c.39.39.9.59 1.41.59.51 0 1.02-.2 1.41-.59l7.78-7.78 2.81-2.81c.8-.78.8-2.07 0-2.86zM5.41 20L4 18.59l7.72-7.72 1.47 1.35L5.41 20z\"/>\n",
              "  </svg>\n",
              "      </button>\n",
              "      \n",
              "  <style>\n",
              "    .colab-df-container {\n",
              "      display:flex;\n",
              "      flex-wrap:wrap;\n",
              "      gap: 12px;\n",
              "    }\n",
              "\n",
              "    .colab-df-convert {\n",
              "      background-color: #E8F0FE;\n",
              "      border: none;\n",
              "      border-radius: 50%;\n",
              "      cursor: pointer;\n",
              "      display: none;\n",
              "      fill: #1967D2;\n",
              "      height: 32px;\n",
              "      padding: 0 0 0 0;\n",
              "      width: 32px;\n",
              "    }\n",
              "\n",
              "    .colab-df-convert:hover {\n",
              "      background-color: #E2EBFA;\n",
              "      box-shadow: 0px 1px 2px rgba(60, 64, 67, 0.3), 0px 1px 3px 1px rgba(60, 64, 67, 0.15);\n",
              "      fill: #174EA6;\n",
              "    }\n",
              "\n",
              "    [theme=dark] .colab-df-convert {\n",
              "      background-color: #3B4455;\n",
              "      fill: #D2E3FC;\n",
              "    }\n",
              "\n",
              "    [theme=dark] .colab-df-convert:hover {\n",
              "      background-color: #434B5C;\n",
              "      box-shadow: 0px 1px 3px 1px rgba(0, 0, 0, 0.15);\n",
              "      filter: drop-shadow(0px 1px 2px rgba(0, 0, 0, 0.3));\n",
              "      fill: #FFFFFF;\n",
              "    }\n",
              "  </style>\n",
              "\n",
              "      <script>\n",
              "        const buttonEl =\n",
              "          document.querySelector('#df-87fe97e2-5307-4e27-865d-9f5cf4e7c003 button.colab-df-convert');\n",
              "        buttonEl.style.display =\n",
              "          google.colab.kernel.accessAllowed ? 'block' : 'none';\n",
              "\n",
              "        async function convertToInteractive(key) {\n",
              "          const element = document.querySelector('#df-87fe97e2-5307-4e27-865d-9f5cf4e7c003');\n",
              "          const dataTable =\n",
              "            await google.colab.kernel.invokeFunction('convertToInteractive',\n",
              "                                                     [key], {});\n",
              "          if (!dataTable) return;\n",
              "\n",
              "          const docLinkHtml = 'Like what you see? Visit the ' +\n",
              "            '<a target=\"_blank\" href=https://colab.research.google.com/notebooks/data_table.ipynb>data table notebook</a>'\n",
              "            + ' to learn more about interactive tables.';\n",
              "          element.innerHTML = '';\n",
              "          dataTable['output_type'] = 'display_data';\n",
              "          await google.colab.output.renderOutput(dataTable, element);\n",
              "          const docLink = document.createElement('div');\n",
              "          docLink.innerHTML = docLinkHtml;\n",
              "          element.appendChild(docLink);\n",
              "        }\n",
              "      </script>\n",
              "    </div>\n",
              "  </div>\n",
              "  "
            ]
          },
          "metadata": {},
          "execution_count": 3
        }
      ]
    },
    {
      "cell_type": "markdown",
      "source": [
        "## Applying standard sclaer on the dataset"
      ],
      "metadata": {
        "id": "_QnWRCoD6XX4"
      }
    },
    {
      "cell_type": "code",
      "source": [
        "from sklearn.preprocessing import MinMaxScaler"
      ],
      "metadata": {
        "id": "qjZCMbgdvFbL"
      },
      "execution_count": 4,
      "outputs": []
    },
    {
      "cell_type": "code",
      "source": [
        "sc = MinMaxScaler(feature_range=(0,1))\n",
        "training_set_scaled = sc.fit_transform(training_set)"
      ],
      "metadata": {
        "id": "gcxQhh0svBJU"
      },
      "execution_count": 5,
      "outputs": []
    },
    {
      "cell_type": "code",
      "source": [
        "x_train = []\n",
        "y_train = []\n",
        "\n",
        "for i in range(60, 1258):\n",
        "    x_train.append(training_set_scaled[i-60:i, 0])\n",
        "    y_train.append(training_set_scaled[i, 0])\n",
        "\n",
        "x_train, y_train = np.array(x_train), np.array(y_train)\n",
        "\n",
        "x_train = np.reshape(x_train, (x_train.shape[0], x_train.shape[1], 1))"
      ],
      "metadata": {
        "id": "VPydat-7vHtB"
      },
      "execution_count": 6,
      "outputs": []
    },
    {
      "cell_type": "markdown",
      "source": [
        "## Building the RNN model"
      ],
      "metadata": {
        "id": "tX865a7o6ib8"
      }
    },
    {
      "cell_type": "code",
      "source": [
        "from keras.models import Sequential\n",
        "from keras.layers import Dense, LSTM, Dropout"
      ],
      "metadata": {
        "id": "eScWJV09vLvv"
      },
      "execution_count": 7,
      "outputs": []
    },
    {
      "cell_type": "code",
      "source": [
        "regressor = Sequential()\n",
        "\n",
        "regressor.add(LSTM(units=50, return_sequences=True, input_shape=(x_train.shape[1], 1)))\n",
        "regressor.add(Dropout(0.2))\n",
        "\n",
        "regressor.add(LSTM(units=50, return_sequences=True))\n",
        "regressor.add(Dropout(0.2))\n",
        "\n",
        "regressor.add(LSTM(units=50, return_sequences=True))\n",
        "regressor.add(Dropout(0.2))\n",
        "\n",
        "regressor.add(LSTM(units=50))\n",
        "regressor.add(Dropout(0.2))\n",
        "\n",
        "regressor.add(Dense(units=1))"
      ],
      "metadata": {
        "id": "VwDFjwSUvRHU"
      },
      "execution_count": 8,
      "outputs": []
    },
    {
      "cell_type": "code",
      "source": [
        "regressor.compile(optimizer='adam', loss='mean_squared_error')"
      ],
      "metadata": {
        "id": "ANY4KRwfyCz0"
      },
      "execution_count": 9,
      "outputs": []
    },
    {
      "cell_type": "code",
      "source": [
        "regressor.fit(x_train, y_train, epochs=100, batch_size=32)"
      ],
      "metadata": {
        "colab": {
          "base_uri": "https://localhost:8080/"
        },
        "collapsed": true,
        "id": "VbsyqBWeywBb",
        "outputId": "e1e88b01-f251-4f35-f7c8-7943d6e8a4a2"
      },
      "execution_count": 15,
      "outputs": [
        {
          "output_type": "stream",
          "name": "stdout",
          "text": [
            "Epoch 1/100\n",
            "38/38 [==============================] - 13s 15ms/step - loss: 0.0546\n",
            "Epoch 2/100\n",
            "38/38 [==============================] - 1s 14ms/step - loss: 0.0064\n",
            "Epoch 3/100\n",
            "38/38 [==============================] - 1s 14ms/step - loss: 0.0060\n",
            "Epoch 4/100\n",
            "38/38 [==============================] - 1s 14ms/step - loss: 0.0058\n",
            "Epoch 5/100\n",
            "38/38 [==============================] - 1s 14ms/step - loss: 0.0056\n",
            "Epoch 6/100\n",
            "38/38 [==============================] - 1s 13ms/step - loss: 0.0054\n",
            "Epoch 7/100\n",
            "38/38 [==============================] - 1s 14ms/step - loss: 0.0057\n",
            "Epoch 8/100\n",
            "38/38 [==============================] - 1s 14ms/step - loss: 0.0050\n",
            "Epoch 9/100\n",
            "38/38 [==============================] - 1s 14ms/step - loss: 0.0055\n",
            "Epoch 10/100\n",
            "38/38 [==============================] - 0s 13ms/step - loss: 0.0046\n",
            "Epoch 11/100\n",
            "38/38 [==============================] - 1s 14ms/step - loss: 0.0046\n",
            "Epoch 12/100\n",
            "38/38 [==============================] - 1s 15ms/step - loss: 0.0039\n",
            "Epoch 13/100\n",
            "38/38 [==============================] - 1s 14ms/step - loss: 0.0040\n",
            "Epoch 14/100\n",
            "38/38 [==============================] - 1s 14ms/step - loss: 0.0044\n",
            "Epoch 15/100\n",
            "38/38 [==============================] - 1s 13ms/step - loss: 0.0034\n",
            "Epoch 16/100\n",
            "38/38 [==============================] - 1s 15ms/step - loss: 0.0038\n",
            "Epoch 17/100\n",
            "38/38 [==============================] - 1s 14ms/step - loss: 0.0039\n",
            "Epoch 18/100\n",
            "38/38 [==============================] - 1s 19ms/step - loss: 0.0045\n",
            "Epoch 19/100\n",
            "38/38 [==============================] - 1s 20ms/step - loss: 0.0035\n",
            "Epoch 20/100\n",
            "38/38 [==============================] - 1s 21ms/step - loss: 0.0033\n",
            "Epoch 21/100\n",
            "38/38 [==============================] - 1s 15ms/step - loss: 0.0037\n",
            "Epoch 22/100\n",
            "38/38 [==============================] - 1s 14ms/step - loss: 0.0033\n",
            "Epoch 23/100\n",
            "38/38 [==============================] - 1s 14ms/step - loss: 0.0041\n",
            "Epoch 24/100\n",
            "38/38 [==============================] - 1s 16ms/step - loss: 0.0034\n",
            "Epoch 25/100\n",
            "38/38 [==============================] - 1s 21ms/step - loss: 0.0033\n",
            "Epoch 26/100\n",
            "38/38 [==============================] - 1s 19ms/step - loss: 0.0033\n",
            "Epoch 27/100\n",
            "38/38 [==============================] - 1s 20ms/step - loss: 0.0031\n",
            "Epoch 28/100\n",
            "38/38 [==============================] - 1s 14ms/step - loss: 0.0034\n",
            "Epoch 29/100\n",
            "38/38 [==============================] - 1s 14ms/step - loss: 0.0029\n",
            "Epoch 30/100\n",
            "38/38 [==============================] - 1s 13ms/step - loss: 0.0029\n",
            "Epoch 31/100\n",
            "38/38 [==============================] - 1s 14ms/step - loss: 0.0030\n",
            "Epoch 32/100\n",
            "38/38 [==============================] - 1s 14ms/step - loss: 0.0030\n",
            "Epoch 33/100\n",
            "38/38 [==============================] - 1s 14ms/step - loss: 0.0028\n",
            "Epoch 34/100\n",
            "38/38 [==============================] - 1s 14ms/step - loss: 0.0030\n",
            "Epoch 35/100\n",
            "38/38 [==============================] - 1s 13ms/step - loss: 0.0031\n",
            "Epoch 36/100\n",
            "38/38 [==============================] - 1s 15ms/step - loss: 0.0026\n",
            "Epoch 37/100\n",
            "38/38 [==============================] - 1s 14ms/step - loss: 0.0025\n",
            "Epoch 38/100\n",
            "38/38 [==============================] - 1s 20ms/step - loss: 0.0028\n",
            "Epoch 39/100\n",
            "38/38 [==============================] - 1s 19ms/step - loss: 0.0028\n",
            "Epoch 40/100\n",
            "38/38 [==============================] - 1s 21ms/step - loss: 0.0030\n",
            "Epoch 41/100\n",
            "38/38 [==============================] - 1s 15ms/step - loss: 0.0027\n",
            "Epoch 42/100\n",
            "38/38 [==============================] - 1s 14ms/step - loss: 0.0024\n",
            "Epoch 43/100\n",
            "38/38 [==============================] - 1s 14ms/step - loss: 0.0025\n",
            "Epoch 44/100\n",
            "38/38 [==============================] - 1s 15ms/step - loss: 0.0025\n",
            "Epoch 45/100\n",
            "38/38 [==============================] - 1s 14ms/step - loss: 0.0028\n",
            "Epoch 46/100\n",
            "38/38 [==============================] - 1s 15ms/step - loss: 0.0029\n",
            "Epoch 47/100\n",
            "38/38 [==============================] - 1s 15ms/step - loss: 0.0027\n",
            "Epoch 48/100\n",
            "38/38 [==============================] - 1s 15ms/step - loss: 0.0024\n",
            "Epoch 49/100\n",
            "38/38 [==============================] - 1s 14ms/step - loss: 0.0022\n",
            "Epoch 50/100\n",
            "38/38 [==============================] - 1s 14ms/step - loss: 0.0023\n",
            "Epoch 51/100\n",
            "38/38 [==============================] - 1s 15ms/step - loss: 0.0026\n",
            "Epoch 52/100\n",
            "38/38 [==============================] - 1s 14ms/step - loss: 0.0024\n",
            "Epoch 53/100\n",
            "38/38 [==============================] - 1s 14ms/step - loss: 0.0023\n",
            "Epoch 54/100\n",
            "38/38 [==============================] - 1s 14ms/step - loss: 0.0021\n",
            "Epoch 55/100\n",
            "38/38 [==============================] - 1s 14ms/step - loss: 0.0023\n",
            "Epoch 56/100\n",
            "38/38 [==============================] - 1s 14ms/step - loss: 0.0023\n",
            "Epoch 57/100\n",
            "38/38 [==============================] - 1s 15ms/step - loss: 0.0021\n",
            "Epoch 58/100\n",
            "38/38 [==============================] - 1s 15ms/step - loss: 0.0022\n",
            "Epoch 59/100\n",
            "38/38 [==============================] - 1s 20ms/step - loss: 0.0023\n",
            "Epoch 60/100\n",
            "38/38 [==============================] - 1s 21ms/step - loss: 0.0021\n",
            "Epoch 61/100\n",
            "38/38 [==============================] - 1s 21ms/step - loss: 0.0020\n",
            "Epoch 62/100\n",
            "38/38 [==============================] - 1s 15ms/step - loss: 0.0021\n",
            "Epoch 63/100\n",
            "38/38 [==============================] - 1s 14ms/step - loss: 0.0021\n",
            "Epoch 64/100\n",
            "38/38 [==============================] - 1s 14ms/step - loss: 0.0020\n",
            "Epoch 65/100\n",
            "38/38 [==============================] - 1s 15ms/step - loss: 0.0019\n",
            "Epoch 66/100\n",
            "38/38 [==============================] - 1s 15ms/step - loss: 0.0019\n",
            "Epoch 67/100\n",
            "38/38 [==============================] - 1s 14ms/step - loss: 0.0023\n",
            "Epoch 68/100\n",
            "38/38 [==============================] - 1s 15ms/step - loss: 0.0020\n",
            "Epoch 69/100\n",
            "38/38 [==============================] - 1s 14ms/step - loss: 0.0018\n",
            "Epoch 70/100\n",
            "38/38 [==============================] - 1s 15ms/step - loss: 0.0022\n",
            "Epoch 71/100\n",
            "38/38 [==============================] - 1s 15ms/step - loss: 0.0018\n",
            "Epoch 72/100\n",
            "38/38 [==============================] - 1s 15ms/step - loss: 0.0020\n",
            "Epoch 73/100\n",
            "38/38 [==============================] - 1s 14ms/step - loss: 0.0018\n",
            "Epoch 74/100\n",
            "38/38 [==============================] - 1s 14ms/step - loss: 0.0019\n",
            "Epoch 75/100\n",
            "38/38 [==============================] - 1s 15ms/step - loss: 0.0017\n",
            "Epoch 76/100\n",
            "38/38 [==============================] - 1s 14ms/step - loss: 0.0016\n",
            "Epoch 77/100\n",
            "38/38 [==============================] - 1s 15ms/step - loss: 0.0018\n",
            "Epoch 78/100\n",
            "38/38 [==============================] - 1s 14ms/step - loss: 0.0017\n",
            "Epoch 79/100\n",
            "38/38 [==============================] - 1s 15ms/step - loss: 0.0018\n",
            "Epoch 80/100\n",
            "38/38 [==============================] - 1s 20ms/step - loss: 0.0018\n",
            "Epoch 81/100\n",
            "38/38 [==============================] - 1s 20ms/step - loss: 0.0017\n",
            "Epoch 82/100\n",
            "38/38 [==============================] - 1s 19ms/step - loss: 0.0018\n",
            "Epoch 83/100\n",
            "38/38 [==============================] - 1s 15ms/step - loss: 0.0017\n",
            "Epoch 84/100\n",
            "38/38 [==============================] - 1s 15ms/step - loss: 0.0017\n",
            "Epoch 85/100\n",
            "38/38 [==============================] - 1s 15ms/step - loss: 0.0017\n",
            "Epoch 86/100\n",
            "38/38 [==============================] - 1s 15ms/step - loss: 0.0016\n",
            "Epoch 87/100\n",
            "38/38 [==============================] - 1s 14ms/step - loss: 0.0016\n",
            "Epoch 88/100\n",
            "38/38 [==============================] - 1s 13ms/step - loss: 0.0016\n",
            "Epoch 89/100\n",
            "38/38 [==============================] - 1s 14ms/step - loss: 0.0016\n",
            "Epoch 90/100\n",
            "38/38 [==============================] - 1s 14ms/step - loss: 0.0016\n",
            "Epoch 91/100\n",
            "38/38 [==============================] - 1s 15ms/step - loss: 0.0014\n",
            "Epoch 92/100\n",
            "38/38 [==============================] - 1s 14ms/step - loss: 0.0014\n",
            "Epoch 93/100\n",
            "38/38 [==============================] - 1s 14ms/step - loss: 0.0015\n",
            "Epoch 94/100\n",
            "38/38 [==============================] - 1s 15ms/step - loss: 0.0016\n",
            "Epoch 95/100\n",
            "38/38 [==============================] - 1s 14ms/step - loss: 0.0015\n",
            "Epoch 96/100\n",
            "38/38 [==============================] - 1s 14ms/step - loss: 0.0016\n",
            "Epoch 97/100\n",
            "38/38 [==============================] - 0s 13ms/step - loss: 0.0013\n",
            "Epoch 98/100\n",
            "38/38 [==============================] - 1s 15ms/step - loss: 0.0014\n",
            "Epoch 99/100\n",
            "38/38 [==============================] - 1s 15ms/step - loss: 0.0015\n",
            "Epoch 100/100\n",
            "38/38 [==============================] - 1s 16ms/step - loss: 0.0016\n"
          ]
        },
        {
          "output_type": "execute_result",
          "data": {
            "text/plain": [
              "<keras.callbacks.History at 0x7f2da15ef700>"
            ]
          },
          "metadata": {},
          "execution_count": 15
        }
      ]
    },
    {
      "cell_type": "markdown",
      "source": [
        "## Predicting stock price using test set"
      ],
      "metadata": {
        "id": "6rPIoNfy6pdD"
      }
    },
    {
      "cell_type": "code",
      "source": [
        "dataset_test = pd.read_csv('Google_Stock_Price_Test.csv')\n",
        "real_stock_price = dataset_test.iloc[:, 1:2].values"
      ],
      "metadata": {
        "id": "oRFyH7lO3aEb"
      },
      "execution_count": 16,
      "outputs": []
    },
    {
      "cell_type": "code",
      "source": [
        "dataset_total = pd.concat((dataset_train['Open'], dataset_test['Open']), axis=0)\n",
        "inputs = dataset_total[len(dataset_total) - len(dataset_test) - 60:].values\n",
        "inputs = inputs.reshape(-1, 1)\n",
        "inputs = sc.transform(inputs)\n",
        "x_test = []\n",
        "\n",
        "for i in range(60, 80):\n",
        "  x_test.append(inputs[i-60:i, 0])\n",
        "x_test = np.array(x_test)\n",
        "x_test = np.reshape(x_test, (x_test.shape[0], x_test.shape[1], 1))\n",
        "predicted_stock_price = regressor.predict(x_test)\n",
        "predicted_stock_price = sc.inverse_transform(predicted_stock_price)"
      ],
      "metadata": {
        "colab": {
          "base_uri": "https://localhost:8080/"
        },
        "id": "LQ900G7W38uU",
        "outputId": "c1ee28ca-f594-4266-8787-95fc9299e775"
      },
      "execution_count": 17,
      "outputs": [
        {
          "output_type": "stream",
          "name": "stdout",
          "text": [
            "1/1 [==============================] - 1s 1s/step\n"
          ]
        }
      ]
    },
    {
      "cell_type": "markdown",
      "source": [
        "### Visualizing the result"
      ],
      "metadata": {
        "id": "bXJY9LYL6wVt"
      }
    },
    {
      "cell_type": "code",
      "source": [
        "plt.plot(real_stock_price, color='red', label='Real Google Stock Price')\n",
        "plt.plot(predicted_stock_price, color='blue', label='Predicted Google Stock Price')\n",
        "plt.title('Google Stock Price Prediction')\n",
        "plt.xlabel('Time')\n",
        "plt.ylabel('Google Stock Price')\n",
        "plt.legend()\n",
        "plt.show()"
      ],
      "metadata": {
        "colab": {
          "base_uri": "https://localhost:8080/",
          "height": 472
        },
        "id": "NyEy4JU_5VFT",
        "outputId": "252fe958-0b59-48b0-965c-8d5ea488409a"
      },
      "execution_count": 18,
      "outputs": [
        {
          "output_type": "display_data",
          "data": {
            "text/plain": [
              "<Figure size 640x480 with 1 Axes>"
            ],
            "image/png": "[encoded data removed]"
          },
          "metadata": {}
        }
      ]
    }
  ]
}