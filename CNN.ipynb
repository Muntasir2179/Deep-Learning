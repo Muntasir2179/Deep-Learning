{
  "nbformat": 4,
  "nbformat_minor": 0,
  "metadata": {
    "colab": {
      "provenance": [],
      "authorship_tag": "ABX9TyMk5goP01CFe7pmXvLrxGP2",
      "include_colab_link": true
    },
    "kernelspec": {
      "name": "python3",
      "display_name": "Python 3"
    },
    "language_info": {
      "name": "python"
    }
  },
  "cells": [
    {
      "cell_type": "markdown",
      "metadata": {
        "id": "view-in-github",
        "colab_type": "text"
      },
      "source": [
        "<a href=\"https://colab.research.google.com/github/Muntasir2179/Deep-Learning/blob/Convolutional-Neural_Network-(CNN)/CNN.ipynb\" target=\"_parent\"><img src=\"https://colab.research.google.com/assets/colab-badge.svg\" alt=\"Open In Colab\"/></a>"
      ]
    },
    {
      "cell_type": "markdown",
      "source": [
        "# **Convolutional Neural Network**"
      ],
      "metadata": {
        "id": "j62L5ENsoH6k"
      }
    },
    {
      "cell_type": "markdown",
      "source": [
        "# Importing the libraries and packages"
      ],
      "metadata": {
        "id": "-X_A2QemoNnR"
      }
    },
    {
      "cell_type": "code",
      "source": [
        "from keras.models import Sequential\n",
        "from keras.layers import Convolution2D, MaxPooling2D, Flatten, Dense"
      ],
      "metadata": {
        "id": "vj6P3QNSoUeQ"
      },
      "execution_count": 1,
      "outputs": []
    },
    {
      "cell_type": "markdown",
      "source": [
        "# Initializing the CNN"
      ],
      "metadata": {
        "id": "PevxMxngpMky"
      }
    },
    {
      "cell_type": "code",
      "source": [
        "classifier = Sequential()"
      ],
      "metadata": {
        "id": "_FP5co7PpPQi"
      },
      "execution_count": 2,
      "outputs": []
    },
    {
      "cell_type": "markdown",
      "source": [
        "# Convolution layer"
      ],
      "metadata": {
        "id": "-Ntgc_JhMB0x"
      }
    },
    {
      "cell_type": "code",
      "source": [
        "classifier.add(Convolution2D(32, 3, 3, input_shape=(64, 64, 3), activation = 'relu'))\n",
        "# 32, 3, 3 -> means 32 number of filters/feature-detectors of 3x3 dimention.\n",
        "# 3, 64, 64 -> if image is a colored image then it is converted into 3D arrays which is represented by 3 here\n",
        "# 3 refers to three chanals which is rgb (red, green and blue)\n",
        "# each chanal contains a 1D array\n",
        "# 64, 64 -> is the dimension of the 2D array in each of the chanal"
      ],
      "metadata": {
        "id": "4WyrgeZOMGCw"
      },
      "execution_count": 3,
      "outputs": []
    },
    {
      "cell_type": "markdown",
      "source": [
        "# Pooling step"
      ],
      "metadata": {
        "id": "9hX7awjPTTVA"
      }
    },
    {
      "cell_type": "code",
      "source": [
        "classifier.add(MaxPooling2D(pool_size = (2, 2)))\n",
        "# polling operation will be performed using 2x2 matrices"
      ],
      "metadata": {
        "id": "5TpGJ71aTWWw"
      },
      "execution_count": 4,
      "outputs": []
    },
    {
      "cell_type": "markdown",
      "source": [
        "# Adding second comvolutional layer"
      ],
      "metadata": {
        "id": "_29JTC7EWXlZ"
      }
    },
    {
      "cell_type": "code",
      "source": [
        "classifier.add(Convolution2D(32, 3, 3, activation = 'relu'))\n",
        "classifier.add(MaxPooling2D(pool_size = (2, 2)))"
      ],
      "metadata": {
        "id": "gSrdOUWtWdaz"
      },
      "execution_count": 5,
      "outputs": []
    },
    {
      "cell_type": "markdown",
      "source": [
        "# Flattning step"
      ],
      "metadata": {
        "id": "NnZoWpptcYRa"
      }
    },
    {
      "cell_type": "code",
      "source": [
        "classifier.add(Flatten())"
      ],
      "metadata": {
        "id": "Ry0k8RXoca85"
      },
      "execution_count": 6,
      "outputs": []
    },
    {
      "cell_type": "markdown",
      "source": [
        "# Adding hidden layer"
      ],
      "metadata": {
        "id": "3h4GbFNU5IDL"
      }
    },
    {
      "cell_type": "code",
      "source": [
        "classifier.add(Dense(units=128, activation = 'relu'))"
      ],
      "metadata": {
        "id": "BSHl-KoR5L4e"
      },
      "execution_count": 7,
      "outputs": []
    },
    {
      "cell_type": "markdown",
      "source": [
        "# Adding the output layer"
      ],
      "metadata": {
        "id": "9XhGyzHI5yDs"
      }
    },
    {
      "cell_type": "code",
      "source": [
        "classifier.add(Dense(units = 1, activation = 'sigmoid'))"
      ],
      "metadata": {
        "id": "dGVC_SNR50ur"
      },
      "execution_count": 8,
      "outputs": []
    },
    {
      "cell_type": "markdown",
      "source": [
        "# Compiling the CNN model"
      ],
      "metadata": {
        "id": "p1rBd8Oq7H7r"
      }
    },
    {
      "cell_type": "code",
      "source": [
        "classifier.compile(optimizer = 'adam', loss = 'binary_crossentropy', metrics = ['accuracy'])\n",
        "# we have a binary outcome which is cat or dog\n",
        "# but if we had more than two outcome then we had to use 'categorical_binary_crossentropy' loss function"
      ],
      "metadata": {
        "id": "FByXqEoU7LFk"
      },
      "execution_count": 9,
      "outputs": []
    },
    {
      "cell_type": "markdown",
      "source": [
        "# Fetching the data"
      ],
      "metadata": {
        "id": "g9ShoR2gAtxT"
      }
    },
    {
      "cell_type": "code",
      "source": [
        "import os\n",
        "import sys\n",
        "from pycocotools.coco import COCO\n",
        "import urllib\n",
        "import zipfile"
      ],
      "metadata": {
        "id": "CUMp7UTfAxBj"
      },
      "execution_count": 10,
      "outputs": []
    },
    {
      "cell_type": "code",
      "source": [
        "dataset_url = 'https://sds-platform-private.s3-us-east-2.amazonaws.com/uploads/P16-Convolutional-Neural-Networks.zip'\n",
        "urllib.request.urlretrieve(dataset_url , filename = 'Dataset.zip')"
      ],
      "metadata": {
        "colab": {
          "base_uri": "https://localhost:8080/"
        },
        "id": "8FrtDPodCkUy",
        "outputId": "a9d761e3-daf5-42ef-8546-10f3d0b22947"
      },
      "execution_count": 11,
      "outputs": [
        {
          "output_type": "execute_result",
          "data": {
            "text/plain": [
              "('Dataset.zip', <http.client.HTTPMessage at 0x7f5bae9e6c70>)"
            ]
          },
          "metadata": {},
          "execution_count": 11
        }
      ]
    },
    {
      "cell_type": "code",
      "source": [
        "with zipfile.ZipFile('Dataset.zip' , 'r') as zip_ref:\n",
        "    zip_ref.extractall()"
      ],
      "metadata": {
        "id": "Eu8nUJTVC-ki"
      },
      "execution_count": 12,
      "outputs": []
    },
    {
      "cell_type": "markdown",
      "source": [
        "# Fitting the CNN model to the images"
      ],
      "metadata": {
        "id": "Kjbk5Ngu-cbd"
      }
    },
    {
      "cell_type": "code",
      "source": [
        "from keras.preprocessing.image import ImageDataGenerator\n",
        "\n",
        "train_datagen = ImageDataGenerator(rescale=1./255, shear_range=0.2, zoom_range=0.2, horizontal_flip=True)\n",
        "\n",
        "test_datagen = ImageDataGenerator(rescale=1./255)\n",
        "\n",
        "training_set = train_datagen.flow_from_directory('/content/Part 2 - Convolutional Neural Networks/dataset/training_set', \n",
        "                                                  target_size=(64, 64), batch_size=32, class_mode='binary')\n",
        "\n",
        "test_set = test_datagen.flow_from_directory('/content/Part 2 - Convolutional Neural Networks/dataset/test_set', \n",
        "                                            target_size=(64, 64), batch_size=32, class_mode='binary')\n",
        "\n",
        "classifier.fit(x = training_set, validation_data = test_set, epochs = 25)"
      ],
      "metadata": {
        "id": "CrsFs8GB-kts",
        "colab": {
          "base_uri": "https://localhost:8080/"
        },
        "outputId": "130c99e9-9a68-4642-e426-4616ad33c0ae"
      },
      "execution_count": 13,
      "outputs": [
        {
          "output_type": "stream",
          "name": "stdout",
          "text": [
            "Found 8000 images belonging to 2 classes.\n",
            "Found 2000 images belonging to 2 classes.\n",
            "Epoch 1/25\n",
            "250/250 [==============================] - 52s 202ms/step - loss: 0.6932 - accuracy: 0.5067 - val_loss: 0.6864 - val_accuracy: 0.5815\n",
            "Epoch 2/25\n",
            "250/250 [==============================] - 51s 203ms/step - loss: 0.6862 - accuracy: 0.5573 - val_loss: 0.6718 - val_accuracy: 0.5980\n",
            "Epoch 3/25\n",
            "250/250 [==============================] - 50s 202ms/step - loss: 0.6720 - accuracy: 0.5800 - val_loss: 0.6710 - val_accuracy: 0.5910\n",
            "Epoch 4/25\n",
            "250/250 [==============================] - 50s 201ms/step - loss: 0.6529 - accuracy: 0.6104 - val_loss: 0.6424 - val_accuracy: 0.6340\n",
            "Epoch 5/25\n",
            "250/250 [==============================] - 50s 202ms/step - loss: 0.6426 - accuracy: 0.6280 - val_loss: 0.6626 - val_accuracy: 0.6060\n",
            "Epoch 6/25\n",
            "250/250 [==============================] - 50s 200ms/step - loss: 0.6321 - accuracy: 0.6417 - val_loss: 0.6222 - val_accuracy: 0.6520\n",
            "Epoch 7/25\n",
            "250/250 [==============================] - 47s 189ms/step - loss: 0.6214 - accuracy: 0.6515 - val_loss: 0.6171 - val_accuracy: 0.6570\n",
            "Epoch 8/25\n",
            "250/250 [==============================] - 52s 205ms/step - loss: 0.6189 - accuracy: 0.6564 - val_loss: 0.6095 - val_accuracy: 0.6655\n",
            "Epoch 9/25\n",
            "250/250 [==============================] - 46s 185ms/step - loss: 0.6085 - accuracy: 0.6644 - val_loss: 0.5998 - val_accuracy: 0.6730\n",
            "Epoch 10/25\n",
            "250/250 [==============================] - 47s 188ms/step - loss: 0.6031 - accuracy: 0.6754 - val_loss: 0.5974 - val_accuracy: 0.6740\n",
            "Epoch 11/25\n",
            "250/250 [==============================] - 50s 200ms/step - loss: 0.5976 - accuracy: 0.6758 - val_loss: 0.5954 - val_accuracy: 0.6860\n",
            "Epoch 12/25\n",
            "250/250 [==============================] - 50s 202ms/step - loss: 0.5931 - accuracy: 0.6770 - val_loss: 0.6069 - val_accuracy: 0.6755\n",
            "Epoch 13/25\n",
            "250/250 [==============================] - 46s 184ms/step - loss: 0.5941 - accuracy: 0.6766 - val_loss: 0.6002 - val_accuracy: 0.6705\n",
            "Epoch 14/25\n",
            "250/250 [==============================] - 50s 202ms/step - loss: 0.5839 - accuracy: 0.6919 - val_loss: 0.5944 - val_accuracy: 0.6905\n",
            "Epoch 15/25\n",
            "250/250 [==============================] - 47s 188ms/step - loss: 0.5840 - accuracy: 0.6874 - val_loss: 0.5956 - val_accuracy: 0.6850\n",
            "Epoch 16/25\n",
            "250/250 [==============================] - 50s 200ms/step - loss: 0.5839 - accuracy: 0.6865 - val_loss: 0.5942 - val_accuracy: 0.6735\n",
            "Epoch 17/25\n",
            "250/250 [==============================] - 46s 185ms/step - loss: 0.5872 - accuracy: 0.6924 - val_loss: 0.5878 - val_accuracy: 0.6800\n",
            "Epoch 18/25\n",
            "250/250 [==============================] - 50s 201ms/step - loss: 0.5773 - accuracy: 0.6967 - val_loss: 0.5840 - val_accuracy: 0.6940\n",
            "Epoch 19/25\n",
            "250/250 [==============================] - 50s 201ms/step - loss: 0.5744 - accuracy: 0.6959 - val_loss: 0.6436 - val_accuracy: 0.6465\n",
            "Epoch 20/25\n",
            "250/250 [==============================] - 50s 199ms/step - loss: 0.5731 - accuracy: 0.7005 - val_loss: 0.5964 - val_accuracy: 0.6915\n",
            "Epoch 21/25\n",
            "250/250 [==============================] - 47s 187ms/step - loss: 0.5719 - accuracy: 0.7001 - val_loss: 0.5972 - val_accuracy: 0.6830\n",
            "Epoch 22/25\n",
            "250/250 [==============================] - 49s 198ms/step - loss: 0.5670 - accuracy: 0.7048 - val_loss: 0.5841 - val_accuracy: 0.6860\n",
            "Epoch 23/25\n",
            "250/250 [==============================] - 50s 199ms/step - loss: 0.5677 - accuracy: 0.7039 - val_loss: 0.5876 - val_accuracy: 0.6865\n",
            "Epoch 24/25\n",
            "250/250 [==============================] - 47s 187ms/step - loss: 0.5623 - accuracy: 0.7095 - val_loss: 0.5911 - val_accuracy: 0.6825\n",
            "Epoch 25/25\n",
            "250/250 [==============================] - 45s 181ms/step - loss: 0.5617 - accuracy: 0.7069 - val_loss: 0.6159 - val_accuracy: 0.6650\n"
          ]
        },
        {
          "output_type": "execute_result",
          "data": {
            "text/plain": [
              "<keras.callbacks.History at 0x7f5ba8954c10>"
            ]
          },
          "metadata": {},
          "execution_count": 13
        }
      ]
    }
  ]
}