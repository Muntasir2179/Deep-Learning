{
  "nbformat": 4,
  "nbformat_minor": 0,
  "metadata": {
    "colab": {
      "provenance": [],
      "authorship_tag": "ABX9TyN0lQu0bTfkXZjpnfylS4n5",
      "include_colab_link": true
    },
    "kernelspec": {
      "name": "python3",
      "display_name": "Python 3"
    },
    "language_info": {
      "name": "python"
    }
  },
  "cells": [
    {
      "cell_type": "markdown",
      "metadata": {
        "id": "view-in-github",
        "colab_type": "text"
      },
      "source": [
        "<a href=\"https://colab.research.google.com/github/Muntasir2179/Deep-Learning/blob/Convolutional-Neural_Network-(CNN)/CNN.ipynb\" target=\"_parent\"><img src=\"https://colab.research.google.com/assets/colab-badge.svg\" alt=\"Open In Colab\"/></a>"
      ]
    },
    {
      "cell_type": "markdown",
      "source": [
        "# **Convolutional Neural Network**"
      ],
      "metadata": {
        "id": "j62L5ENsoH6k"
      }
    },
    {
      "cell_type": "markdown",
      "source": [
        "# Importing the libraries and packages"
      ],
      "metadata": {
        "id": "-X_A2QemoNnR"
      }
    },
    {
      "cell_type": "code",
      "source": [
        "from keras.models import Sequential\n",
        "from keras.layers import Convolution2D, MaxPooling2D, Flatten, Dense"
      ],
      "metadata": {
        "id": "vj6P3QNSoUeQ"
      },
      "execution_count": 1,
      "outputs": []
    },
    {
      "cell_type": "markdown",
      "source": [
        "# Initializing the CNN"
      ],
      "metadata": {
        "id": "PevxMxngpMky"
      }
    },
    {
      "cell_type": "code",
      "source": [
        "classifier = Sequential()"
      ],
      "metadata": {
        "id": "_FP5co7PpPQi"
      },
      "execution_count": 2,
      "outputs": []
    },
    {
      "cell_type": "markdown",
      "source": [
        "# Convolution layer"
      ],
      "metadata": {
        "id": "-Ntgc_JhMB0x"
      }
    },
    {
      "cell_type": "code",
      "source": [
        "classifier.add(Convolution2D(32, 3, 3, input_shape=(64, 64, 3), activation = 'relu'))\n",
        "# 32, 3, 3 -> means 32 number of filters/feature-detectors of 3x3 dimention.\n",
        "# 3, 64, 64 -> if image is a colored image then it is converted into 3D arrays which is represented by 3 here\n",
        "# 3 refers to three chanals which is rgb (red, green and blue)\n",
        "# each chanal contains a 1D array\n",
        "# 64, 64 -> is the dimension of the 2D array in each of the chanal"
      ],
      "metadata": {
        "id": "4WyrgeZOMGCw"
      },
      "execution_count": 3,
      "outputs": []
    },
    {
      "cell_type": "markdown",
      "source": [
        "# Pooling step"
      ],
      "metadata": {
        "id": "9hX7awjPTTVA"
      }
    },
    {
      "cell_type": "code",
      "source": [
        "classifier.add(MaxPooling2D(pool_size = (2, 2)))\n",
        "# polling operation will be performed using 2x2 matrices"
      ],
      "metadata": {
        "id": "5TpGJ71aTWWw"
      },
      "execution_count": 4,
      "outputs": []
    },
    {
      "cell_type": "markdown",
      "source": [
        "# Flattning step"
      ],
      "metadata": {
        "id": "NnZoWpptcYRa"
      }
    },
    {
      "cell_type": "code",
      "source": [
        "classifier.add(Flatten())"
      ],
      "metadata": {
        "id": "Ry0k8RXoca85"
      },
      "execution_count": 5,
      "outputs": []
    },
    {
      "cell_type": "markdown",
      "source": [
        "# Adding hidden layer"
      ],
      "metadata": {
        "id": "3h4GbFNU5IDL"
      }
    },
    {
      "cell_type": "code",
      "source": [
        "classifier.add(Dense(units=128, activation = 'relu'))"
      ],
      "metadata": {
        "id": "BSHl-KoR5L4e"
      },
      "execution_count": 7,
      "outputs": []
    },
    {
      "cell_type": "markdown",
      "source": [
        "# Adding the output layer"
      ],
      "metadata": {
        "id": "9XhGyzHI5yDs"
      }
    },
    {
      "cell_type": "code",
      "source": [
        "classifier.add(Dense(units = 1, activation = 'sigmoid'))"
      ],
      "metadata": {
        "id": "dGVC_SNR50ur"
      },
      "execution_count": 8,
      "outputs": []
    },
    {
      "cell_type": "markdown",
      "source": [
        "# Compiling the CNN model"
      ],
      "metadata": {
        "id": "p1rBd8Oq7H7r"
      }
    },
    {
      "cell_type": "code",
      "source": [
        "classifier.compile(optimizer = 'adam', loss = 'binary_crossentropy', metrics = ['accuracy'])\n",
        "# we have a binary outcome which is cat or dog\n",
        "# but if we had more than two outcome then we had to use 'categorical_binary_crossentropy' loss function"
      ],
      "metadata": {
        "id": "FByXqEoU7LFk"
      },
      "execution_count": 9,
      "outputs": []
    }
  ]
}