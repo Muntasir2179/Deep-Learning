{
  "nbformat": 4,
  "nbformat_minor": 0,
  "metadata": {
    "colab": {
      "provenance": [],
      "authorship_tag": "ABX9TyN8cZXsa63pa+UM0jxLio/A",
      "include_colab_link": true
    },
    "kernelspec": {
      "name": "python3",
      "display_name": "Python 3"
    },
    "language_info": {
      "name": "python"
    }
  },
  "cells": [
    {
      "cell_type": "markdown",
      "metadata": {
        "id": "view-in-github",
        "colab_type": "text"
      },
      "source": [
        "<a href=\"https://colab.research.google.com/github/Muntasir2179/Deep-Learning/blob/Convolutional-Neural_Network-(CNN)/CNN.ipynb\" target=\"_parent\"><img src=\"https://colab.research.google.com/assets/colab-badge.svg\" alt=\"Open In Colab\"/></a>"
      ]
    },
    {
      "cell_type": "markdown",
      "source": [
        "# **Convolutional Neural Network**"
      ],
      "metadata": {
        "id": "j62L5ENsoH6k"
      }
    },
    {
      "cell_type": "markdown",
      "source": [
        "# Importing the libraries and packages"
      ],
      "metadata": {
        "id": "-X_A2QemoNnR"
      }
    },
    {
      "cell_type": "code",
      "source": [
        "from keras.models import Sequential\n",
        "from keras.layers import Convolution2D, MaxPooling2D, Flatten, Dense"
      ],
      "metadata": {
        "id": "vj6P3QNSoUeQ"
      },
      "execution_count": 1,
      "outputs": []
    },
    {
      "cell_type": "markdown",
      "source": [
        "# Initializing the CNN"
      ],
      "metadata": {
        "id": "PevxMxngpMky"
      }
    },
    {
      "cell_type": "code",
      "source": [
        "classifier = Sequential()"
      ],
      "metadata": {
        "id": "_FP5co7PpPQi"
      },
      "execution_count": 2,
      "outputs": []
    },
    {
      "cell_type": "markdown",
      "source": [
        "# Convolution layer"
      ],
      "metadata": {
        "id": "-Ntgc_JhMB0x"
      }
    },
    {
      "cell_type": "code",
      "source": [
        "classifier.add(Convolution2D(32, 3, 3, input_shape=(64, 64, 3), activation = 'relu'))\n",
        "# 32, 3, 3 -> means 32 number of filters/feature-detectors of 3x3 dimention.\n",
        "# 3, 64, 64 -> if image is a colored image then it is converted into 3D arrays which is represented by 3 here\n",
        "# 3 refers to three chanals which is rgb (red, green and blue)\n",
        "# each chanal contains a 1D array\n",
        "# 64, 64 -> is the dimension of the 2D array in each of the chanal"
      ],
      "metadata": {
        "id": "4WyrgeZOMGCw"
      },
      "execution_count": 3,
      "outputs": []
    },
    {
      "cell_type": "markdown",
      "source": [
        "# Pooling step"
      ],
      "metadata": {
        "id": "9hX7awjPTTVA"
      }
    },
    {
      "cell_type": "code",
      "source": [
        "classifier.add(MaxPooling2D(pool_size = (2, 2)))\n",
        "# polling operation will be performed using 2x2 matrices"
      ],
      "metadata": {
        "id": "5TpGJ71aTWWw"
      },
      "execution_count": 4,
      "outputs": []
    },
    {
      "cell_type": "markdown",
      "source": [
        "# Flattning step"
      ],
      "metadata": {
        "id": "NnZoWpptcYRa"
      }
    },
    {
      "cell_type": "code",
      "source": [
        "classifier.add(Flatten())"
      ],
      "metadata": {
        "id": "Ry0k8RXoca85"
      },
      "execution_count": 5,
      "outputs": []
    },
    {
      "cell_type": "markdown",
      "source": [
        "# Adding hidden layer"
      ],
      "metadata": {
        "id": "3h4GbFNU5IDL"
      }
    },
    {
      "cell_type": "code",
      "source": [
        "classifier.add(Dense(units=128, activation = 'relu'))"
      ],
      "metadata": {
        "id": "BSHl-KoR5L4e"
      },
      "execution_count": 6,
      "outputs": []
    },
    {
      "cell_type": "markdown",
      "source": [
        "# Adding the output layer"
      ],
      "metadata": {
        "id": "9XhGyzHI5yDs"
      }
    },
    {
      "cell_type": "code",
      "source": [
        "classifier.add(Dense(units = 1, activation = 'sigmoid'))"
      ],
      "metadata": {
        "id": "dGVC_SNR50ur"
      },
      "execution_count": 7,
      "outputs": []
    },
    {
      "cell_type": "markdown",
      "source": [
        "# Compiling the CNN model"
      ],
      "metadata": {
        "id": "p1rBd8Oq7H7r"
      }
    },
    {
      "cell_type": "code",
      "source": [
        "classifier.compile(optimizer = 'adam', loss = 'binary_crossentropy', metrics = ['accuracy'])\n",
        "# we have a binary outcome which is cat or dog\n",
        "# but if we had more than two outcome then we had to use 'categorical_binary_crossentropy' loss function"
      ],
      "metadata": {
        "id": "FByXqEoU7LFk"
      },
      "execution_count": 8,
      "outputs": []
    },
    {
      "cell_type": "markdown",
      "source": [
        "# Fetching the data"
      ],
      "metadata": {
        "id": "g9ShoR2gAtxT"
      }
    },
    {
      "cell_type": "code",
      "source": [
        "import os\n",
        "import sys\n",
        "from pycocotools.coco import COCO\n",
        "import urllib\n",
        "import zipfile"
      ],
      "metadata": {
        "id": "CUMp7UTfAxBj"
      },
      "execution_count": 9,
      "outputs": []
    },
    {
      "cell_type": "code",
      "source": [
        "dataset_url = 'https://sds-platform-private.s3-us-east-2.amazonaws.com/uploads/P16-Convolutional-Neural-Networks.zip'\n",
        "urllib.request.urlretrieve(dataset_url , filename = 'Dataset.zip')"
      ],
      "metadata": {
        "colab": {
          "base_uri": "https://localhost:8080/"
        },
        "id": "8FrtDPodCkUy",
        "outputId": "39bbcdfe-e28e-4a00-f395-51f77b7d5ab0"
      },
      "execution_count": 10,
      "outputs": [
        {
          "output_type": "execute_result",
          "data": {
            "text/plain": [
              "('Dataset.zip', <http.client.HTTPMessage at 0x7f70aa2aae50>)"
            ]
          },
          "metadata": {},
          "execution_count": 10
        }
      ]
    },
    {
      "cell_type": "code",
      "source": [
        "with zipfile.ZipFile('Dataset.zip' , 'r') as zip_ref:\n",
        "    zip_ref.extractall()"
      ],
      "metadata": {
        "id": "Eu8nUJTVC-ki"
      },
      "execution_count": 11,
      "outputs": []
    },
    {
      "cell_type": "markdown",
      "source": [
        "# Fitting the CNN model to the images"
      ],
      "metadata": {
        "id": "Kjbk5Ngu-cbd"
      }
    },
    {
      "cell_type": "code",
      "source": [
        "from keras.preprocessing.image import ImageDataGenerator\n",
        "\n",
        "train_datagen = ImageDataGenerator(rescale=1./255, shear_range=0.2, zoom_range=0.2, horizontal_flip=True)\n",
        "\n",
        "test_datagen = ImageDataGenerator(rescale=1./255)\n",
        "\n",
        "training_set = train_datagen.flow_from_directory('/content/Part 2 - Convolutional Neural Networks/dataset/training_set', \n",
        "                                                  target_size=(64, 64), batch_size=32, class_mode='binary')\n",
        "\n",
        "test_set = test_datagen.flow_from_directory('/content/Part 2 - Convolutional Neural Networks/dataset/test_set', \n",
        "                                            target_size=(64, 64), batch_size=32, class_mode='binary')\n",
        "\n",
        "classifier.fit(x = training_set, validation_data = test_set, epochs = 25)"
      ],
      "metadata": {
        "id": "CrsFs8GB-kts",
        "colab": {
          "base_uri": "https://localhost:8080/"
        },
        "outputId": "9f3b412e-e6ad-47f4-fb9b-e10ea1b214e8"
      },
      "execution_count": 12,
      "outputs": [
        {
          "output_type": "stream",
          "name": "stdout",
          "text": [
            "Found 8000 images belonging to 2 classes.\n",
            "Found 2000 images belonging to 2 classes.\n",
            "Epoch 1/25\n",
            "250/250 [==============================] - 53s 207ms/step - loss: 0.6605 - accuracy: 0.5978 - val_loss: 0.7508 - val_accuracy: 0.5355\n",
            "Epoch 2/25\n",
            "250/250 [==============================] - 51s 204ms/step - loss: 0.6100 - accuracy: 0.6670 - val_loss: 0.5824 - val_accuracy: 0.6985\n",
            "Epoch 3/25\n",
            "250/250 [==============================] - 51s 205ms/step - loss: 0.5793 - accuracy: 0.6879 - val_loss: 0.5813 - val_accuracy: 0.7085\n",
            "Epoch 4/25\n",
            "250/250 [==============================] - 51s 202ms/step - loss: 0.5611 - accuracy: 0.7101 - val_loss: 0.6312 - val_accuracy: 0.6460\n",
            "Epoch 5/25\n",
            "250/250 [==============================] - 47s 189ms/step - loss: 0.5393 - accuracy: 0.7246 - val_loss: 0.5563 - val_accuracy: 0.7180\n",
            "Epoch 6/25\n",
            "250/250 [==============================] - 51s 205ms/step - loss: 0.5283 - accuracy: 0.7364 - val_loss: 0.5315 - val_accuracy: 0.7320\n",
            "Epoch 7/25\n",
            "250/250 [==============================] - 54s 216ms/step - loss: 0.5199 - accuracy: 0.7352 - val_loss: 0.5457 - val_accuracy: 0.7295\n",
            "Epoch 8/25\n",
            "250/250 [==============================] - 51s 205ms/step - loss: 0.5104 - accuracy: 0.7489 - val_loss: 0.5259 - val_accuracy: 0.7400\n",
            "Epoch 9/25\n",
            "250/250 [==============================] - 48s 190ms/step - loss: 0.5033 - accuracy: 0.7492 - val_loss: 0.5298 - val_accuracy: 0.7325\n",
            "Epoch 10/25\n",
            "250/250 [==============================] - 47s 190ms/step - loss: 0.4926 - accuracy: 0.7638 - val_loss: 0.5226 - val_accuracy: 0.7530\n",
            "Epoch 11/25\n",
            "250/250 [==============================] - 51s 203ms/step - loss: 0.4898 - accuracy: 0.7580 - val_loss: 0.5297 - val_accuracy: 0.7430\n",
            "Epoch 12/25\n",
            "250/250 [==============================] - 52s 206ms/step - loss: 0.4746 - accuracy: 0.7689 - val_loss: 0.6026 - val_accuracy: 0.6975\n",
            "Epoch 13/25\n",
            "250/250 [==============================] - 51s 204ms/step - loss: 0.4746 - accuracy: 0.7742 - val_loss: 0.5123 - val_accuracy: 0.7580\n",
            "Epoch 14/25\n",
            "250/250 [==============================] - 51s 202ms/step - loss: 0.4578 - accuracy: 0.7800 - val_loss: 0.5136 - val_accuracy: 0.7595\n",
            "Epoch 15/25\n",
            "250/250 [==============================] - 51s 203ms/step - loss: 0.4574 - accuracy: 0.7854 - val_loss: 0.5120 - val_accuracy: 0.7685\n",
            "Epoch 16/25\n",
            "250/250 [==============================] - 51s 204ms/step - loss: 0.4478 - accuracy: 0.7878 - val_loss: 0.5162 - val_accuracy: 0.7675\n",
            "Epoch 17/25\n",
            "250/250 [==============================] - 51s 203ms/step - loss: 0.4451 - accuracy: 0.7901 - val_loss: 0.5169 - val_accuracy: 0.7670\n",
            "Epoch 18/25\n",
            "250/250 [==============================] - 51s 203ms/step - loss: 0.4351 - accuracy: 0.7950 - val_loss: 0.5019 - val_accuracy: 0.7755\n",
            "Epoch 19/25\n",
            "250/250 [==============================] - 51s 205ms/step - loss: 0.4265 - accuracy: 0.8041 - val_loss: 0.5232 - val_accuracy: 0.7610\n",
            "Epoch 20/25\n",
            "250/250 [==============================] - 51s 206ms/step - loss: 0.4222 - accuracy: 0.8055 - val_loss: 0.5593 - val_accuracy: 0.7485\n",
            "Epoch 21/25\n",
            "250/250 [==============================] - 48s 193ms/step - loss: 0.4146 - accuracy: 0.8105 - val_loss: 0.5447 - val_accuracy: 0.7535\n",
            "Epoch 22/25\n",
            "250/250 [==============================] - 51s 203ms/step - loss: 0.4099 - accuracy: 0.8126 - val_loss: 0.5189 - val_accuracy: 0.7640\n",
            "Epoch 23/25\n",
            "250/250 [==============================] - 51s 204ms/step - loss: 0.3913 - accuracy: 0.8232 - val_loss: 0.5132 - val_accuracy: 0.7705\n",
            "Epoch 24/25\n",
            "250/250 [==============================] - 52s 208ms/step - loss: 0.3896 - accuracy: 0.8256 - val_loss: 0.5527 - val_accuracy: 0.7595\n",
            "Epoch 25/25\n",
            "250/250 [==============================] - 51s 204ms/step - loss: 0.3860 - accuracy: 0.8239 - val_loss: 0.5380 - val_accuracy: 0.7670\n"
          ]
        },
        {
          "output_type": "execute_result",
          "data": {
            "text/plain": [
              "<keras.callbacks.History at 0x7f70aab0e070>"
            ]
          },
          "metadata": {},
          "execution_count": 12
        }
      ]
    }
  ]
}