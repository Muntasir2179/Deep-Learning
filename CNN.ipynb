{
  "nbformat": 4,
  "nbformat_minor": 0,
  "metadata": {
    "colab": {
      "provenance": [],
      "authorship_tag": "ABX9TyO2C/VcBaaat/Xr8uzSRoQ7",
      "include_colab_link": true
    },
    "kernelspec": {
      "name": "python3",
      "display_name": "Python 3"
    },
    "language_info": {
      "name": "python"
    }
  },
  "cells": [
    {
      "cell_type": "markdown",
      "metadata": {
        "id": "view-in-github",
        "colab_type": "text"
      },
      "source": [
        "<a href=\"https://colab.research.google.com/github/Muntasir2179/Deep-Learning/blob/Convolutional-Neural_Network-(CNN)/CNN.ipynb\" target=\"_parent\"><img src=\"https://colab.research.google.com/assets/colab-badge.svg\" alt=\"Open In Colab\"/></a>"
      ]
    },
    {
      "cell_type": "markdown",
      "source": [
        "# **Convolutional Neural Network**"
      ],
      "metadata": {
        "id": "j62L5ENsoH6k"
      }
    },
    {
      "cell_type": "markdown",
      "source": [
        "# Importing the libraries and packages"
      ],
      "metadata": {
        "id": "-X_A2QemoNnR"
      }
    },
    {
      "cell_type": "code",
      "source": [
        "from keras.models import Sequential\n",
        "from keras.layers import Convolution2D, MaxPooling2D, Flatten, Dense"
      ],
      "metadata": {
        "id": "vj6P3QNSoUeQ"
      },
      "execution_count": 1,
      "outputs": []
    },
    {
      "cell_type": "markdown",
      "source": [
        "# Initializing the CNN"
      ],
      "metadata": {
        "id": "PevxMxngpMky"
      }
    },
    {
      "cell_type": "code",
      "source": [
        "classifier = Sequential()"
      ],
      "metadata": {
        "id": "_FP5co7PpPQi"
      },
      "execution_count": 2,
      "outputs": []
    }
  ]
}