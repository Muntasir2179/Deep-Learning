{
  "cells": [
    {
      "cell_type": "markdown",
      "metadata": {
        "id": "view-in-github",
        "colab_type": "text"
      },
      "source": [
        "<a href=\"https://colab.research.google.com/github/Muntasir2179/Deep-Learning/blob/Artificial-Neural-Network-(ANN)/ANN.ipynb\" target=\"_parent\"><img src=\"https://colab.research.google.com/assets/colab-badge.svg\" alt=\"Open In Colab\"/></a>"
      ]
    },
    {
      "cell_type": "markdown",
      "metadata": {
        "id": "TT-DX-oBM_cS"
      },
      "source": [
        "# Importing Libraries"
      ]
    },
    {
      "cell_type": "code",
      "execution_count": 1,
      "metadata": {
        "id": "kMbgCQhWNE6d"
      },
      "outputs": [],
      "source": [
        "import numpy as np\n",
        "import matplotlib.pyplot as plt\n",
        "import pandas as pd"
      ]
    },
    {
      "cell_type": "markdown",
      "metadata": {
        "id": "5RT8wmlCQWUC"
      },
      "source": [
        "# Importing dataset"
      ]
    },
    {
      "cell_type": "code",
      "execution_count": 2,
      "metadata": {
        "id": "drjM_aHvQafC"
      },
      "outputs": [],
      "source": [
        "dataset = pd.read_csv('Churn_Modelling.csv')\n",
        "x = dataset.iloc[:, 3:13].values\n",
        "y = dataset.iloc[:, 13].values"
      ]
    },
    {
      "cell_type": "code",
      "execution_count": 3,
      "metadata": {
        "colab": {
          "base_uri": "https://localhost:8080/"
        },
        "id": "5N9WUl6_S_xi",
        "outputId": "d1143238-30f6-4ca2-8651-0f2d002e1505"
      },
      "outputs": [
        {
          "output_type": "stream",
          "name": "stdout",
          "text": [
            "[[619 'France' 'Female' ... 1 1 101348.88]\n",
            " [608 'Spain' 'Female' ... 0 1 112542.58]\n",
            " [502 'France' 'Female' ... 1 0 113931.57]\n",
            " ...\n",
            " [709 'France' 'Female' ... 0 1 42085.58]\n",
            " [772 'Germany' 'Male' ... 1 0 92888.52]\n",
            " [792 'France' 'Female' ... 1 0 38190.78]]\n"
          ]
        }
      ],
      "source": [
        "print(x)"
      ]
    },
    {
      "cell_type": "code",
      "execution_count": 4,
      "metadata": {
        "colab": {
          "base_uri": "https://localhost:8080/"
        },
        "id": "-c1_TuY5TB7S",
        "outputId": "d72aabc0-2236-4b26-bfdd-0987a9f78e22"
      },
      "outputs": [
        {
          "output_type": "stream",
          "name": "stdout",
          "text": [
            "[1 0 1 ... 1 1 0]\n"
          ]
        }
      ],
      "source": [
        "print(y)"
      ]
    },
    {
      "cell_type": "markdown",
      "metadata": {
        "id": "4ovujtzCTq5p"
      },
      "source": [
        "# Encoding categorical variable"
      ]
    },
    {
      "cell_type": "code",
      "execution_count": 5,
      "metadata": {
        "id": "jY8wumsdTvQi"
      },
      "outputs": [],
      "source": [
        "from sklearn.preprocessing import LabelEncoder, OneHotEncoder\n",
        "labelencoder_x_1 = LabelEncoder()\n",
        "x[:, 1] = labelencoder_x_1.fit_transform(x[:, 1])"
      ]
    },
    {
      "cell_type": "code",
      "execution_count": 6,
      "metadata": {
        "colab": {
          "base_uri": "https://localhost:8080/"
        },
        "id": "sCeqz6VAVoNp",
        "outputId": "5d9bc0a4-02b7-4e77-9a50-05dcd504ff4a"
      },
      "outputs": [
        {
          "output_type": "stream",
          "name": "stdout",
          "text": [
            "[[619 0 'Female' ... 1 1 101348.88]\n",
            " [608 2 'Female' ... 0 1 112542.58]\n",
            " [502 0 'Female' ... 1 0 113931.57]\n",
            " ...\n",
            " [709 0 'Female' ... 0 1 42085.58]\n",
            " [772 1 'Male' ... 1 0 92888.52]\n",
            " [792 0 'Female' ... 1 0 38190.78]]\n"
          ]
        }
      ],
      "source": [
        "print(x)"
      ]
    },
    {
      "cell_type": "code",
      "execution_count": 7,
      "metadata": {
        "id": "IzKrXCHxVlND"
      },
      "outputs": [],
      "source": [
        "labelencoder_x_2 = LabelEncoder()\n",
        "x[:, 2] = labelencoder_x_2.fit_transform(x[:, 2])"
      ]
    },
    {
      "cell_type": "code",
      "execution_count": 8,
      "metadata": {
        "colab": {
          "base_uri": "https://localhost:8080/"
        },
        "id": "KQnnLlCtWC0a",
        "outputId": "70ad48ec-fd61-40fb-99fe-7a0b3e855529"
      },
      "outputs": [
        {
          "output_type": "stream",
          "name": "stdout",
          "text": [
            "[[619 0 0 ... 1 1 101348.88]\n",
            " [608 2 0 ... 0 1 112542.58]\n",
            " [502 0 0 ... 1 0 113931.57]\n",
            " ...\n",
            " [709 0 0 ... 0 1 42085.58]\n",
            " [772 1 1 ... 1 0 92888.52]\n",
            " [792 0 0 ... 1 0 38190.78]]\n"
          ]
        }
      ],
      "source": [
        "print(x)"
      ]
    },
    {
      "cell_type": "code",
      "execution_count": 9,
      "metadata": {
        "id": "hb06PN9nZ_J2"
      },
      "outputs": [],
      "source": [
        "from sklearn.compose import ColumnTransformer\n",
        "onehotencoder = ColumnTransformer([('one_hot_encoder', OneHotEncoder(),[1])], remainder = 'passthrough')\n",
        "x = onehotencoder.fit_transform(x)\n",
        "x = x[:, 1:]"
      ]
    },
    {
      "cell_type": "code",
      "execution_count": 10,
      "metadata": {
        "colab": {
          "base_uri": "https://localhost:8080/"
        },
        "id": "Ltd3JxcJdkHc",
        "outputId": "f3bd79f0-087d-446d-934a-7d04f2ea4b6c"
      },
      "outputs": [
        {
          "output_type": "stream",
          "name": "stdout",
          "text": [
            "[[0.0 0.0 619 ... 1 1 101348.88]\n",
            " [0.0 1.0 608 ... 0 1 112542.58]\n",
            " [0.0 0.0 502 ... 1 0 113931.57]\n",
            " ...\n",
            " [0.0 0.0 709 ... 0 1 42085.58]\n",
            " [1.0 0.0 772 ... 1 0 92888.52]\n",
            " [0.0 0.0 792 ... 1 0 38190.78]]\n"
          ]
        }
      ],
      "source": [
        "print(x)"
      ]
    },
    {
      "cell_type": "markdown",
      "metadata": {
        "id": "6MG2BmMmTOOb"
      },
      "source": [
        "# Spliting dataset into training set and test set"
      ]
    },
    {
      "cell_type": "code",
      "execution_count": 11,
      "metadata": {
        "id": "ks15whwKdzRT"
      },
      "outputs": [],
      "source": [
        "from sklearn.model_selection import train_test_split\n",
        "x_train, x_test, y_train, y_test = train_test_split(x, y, test_size=0.2, random_state=0)"
      ]
    },
    {
      "cell_type": "code",
      "execution_count": 12,
      "metadata": {
        "colab": {
          "base_uri": "https://localhost:8080/"
        },
        "id": "GqK9YxR2egK7",
        "outputId": "e29cf835-da3d-4592-d4a3-5c87414a51d4"
      },
      "outputs": [
        {
          "output_type": "stream",
          "name": "stdout",
          "text": [
            "[[0.0 1.0 667 ... 1 0 163830.64]\n",
            " [1.0 0.0 427 ... 1 1 57098.0]\n",
            " [0.0 0.0 535 ... 1 0 185630.76]\n",
            " ...\n",
            " [0.0 0.0 738 ... 1 0 181429.87]\n",
            " [0.0 1.0 590 ... 1 1 148750.16]\n",
            " [1.0 0.0 623 ... 1 0 118855.26]]\n"
          ]
        }
      ],
      "source": [
        "print(x_train)"
      ]
    },
    {
      "cell_type": "code",
      "execution_count": 13,
      "metadata": {
        "colab": {
          "base_uri": "https://localhost:8080/"
        },
        "id": "YeBtPVQMei0R",
        "outputId": "3e2e1cfd-fd3f-49ad-8545-cd475da2cc3a"
      },
      "outputs": [
        {
          "output_type": "stream",
          "name": "stdout",
          "text": [
            "[0 0 0 ... 0 0 1]\n"
          ]
        }
      ],
      "source": [
        "print(y_train)"
      ]
    },
    {
      "cell_type": "code",
      "execution_count": 14,
      "metadata": {
        "colab": {
          "base_uri": "https://localhost:8080/"
        },
        "id": "tHyG34AWemHJ",
        "outputId": "37a23ff5-945f-45c4-8716-594b077a1b9a"
      },
      "outputs": [
        {
          "output_type": "stream",
          "name": "stdout",
          "text": [
            "[[1.0 0.0 597 ... 1 1 192852.67]\n",
            " [0.0 0.0 523 ... 1 0 128702.1]\n",
            " [0.0 1.0 706 ... 1 1 75732.25]\n",
            " ...\n",
            " [0.0 1.0 578 ... 1 0 141533.19]\n",
            " [1.0 0.0 650 ... 1 1 11276.48]\n",
            " [1.0 0.0 573 ... 1 0 192950.6]]\n"
          ]
        }
      ],
      "source": [
        "print(x_test)"
      ]
    },
    {
      "cell_type": "code",
      "execution_count": 15,
      "metadata": {
        "colab": {
          "base_uri": "https://localhost:8080/"
        },
        "id": "IIFDBdZFeo3T",
        "outputId": "49c2d728-b786-4e8c-f9b6-1cb7c819492b"
      },
      "outputs": [
        {
          "output_type": "stream",
          "name": "stdout",
          "text": [
            "[0 1 0 ... 0 0 0]\n"
          ]
        }
      ],
      "source": [
        "print(y_test)"
      ]
    },
    {
      "cell_type": "markdown",
      "metadata": {
        "id": "kO8xeWuJgplT"
      },
      "source": [
        "# Feature Scaling"
      ]
    },
    {
      "cell_type": "code",
      "execution_count": 16,
      "metadata": {
        "id": "wJXKkukpgsF7"
      },
      "outputs": [],
      "source": [
        "from sklearn.preprocessing import StandardScaler\n",
        "sc = StandardScaler()\n",
        "x_train = sc.fit_transform(x_train)\n",
        "x_test = sc.transform(x_test)"
      ]
    },
    {
      "cell_type": "code",
      "execution_count": 17,
      "metadata": {
        "colab": {
          "base_uri": "https://localhost:8080/"
        },
        "id": "bGLucuoehaPs",
        "outputId": "362bb734-5e15-4f55-cef4-0b7197ecb514"
      },
      "outputs": [
        {
          "output_type": "stream",
          "name": "stdout",
          "text": [
            "[[-0.5698444   1.74309049  0.16958176 ...  0.64259497 -1.03227043\n",
            "   1.10643166]\n",
            " [ 1.75486502 -0.57369368 -2.30455945 ...  0.64259497  0.9687384\n",
            "  -0.74866447]\n",
            " [-0.5698444  -0.57369368 -1.19119591 ...  0.64259497 -1.03227043\n",
            "   1.48533467]\n",
            " ...\n",
            " [-0.5698444  -0.57369368  0.9015152  ...  0.64259497 -1.03227043\n",
            "   1.41231994]\n",
            " [-0.5698444   1.74309049 -0.62420521 ...  0.64259497  0.9687384\n",
            "   0.84432121]\n",
            " [ 1.75486502 -0.57369368 -0.28401079 ...  0.64259497 -1.03227043\n",
            "   0.32472465]]\n"
          ]
        }
      ],
      "source": [
        "print(x_train)"
      ]
    },
    {
      "cell_type": "code",
      "execution_count": 18,
      "metadata": {
        "colab": {
          "base_uri": "https://localhost:8080/"
        },
        "id": "mhuEmYLWhcKT",
        "outputId": "4a1b449e-6b0b-406b-fda6-e5193046e3d9"
      },
      "outputs": [
        {
          "output_type": "stream",
          "name": "stdout",
          "text": [
            "[[ 1.75486502 -0.57369368 -0.55204276 ...  0.64259497  0.9687384\n",
            "   1.61085707]\n",
            " [-0.5698444  -0.57369368 -1.31490297 ...  0.64259497 -1.03227043\n",
            "   0.49587037]\n",
            " [-0.5698444   1.74309049  0.57162971 ...  0.64259497  0.9687384\n",
            "  -0.42478674]\n",
            " ...\n",
            " [-0.5698444   1.74309049 -0.74791227 ...  0.64259497 -1.03227043\n",
            "   0.71888467]\n",
            " [ 1.75486502 -0.57369368 -0.00566991 ...  0.64259497  0.9687384\n",
            "  -1.54507805]\n",
            " [ 1.75486502 -0.57369368 -0.79945688 ...  0.64259497 -1.03227043\n",
            "   1.61255917]]\n"
          ]
        }
      ],
      "source": [
        "print(x_test)"
      ]
    },
    {
      "cell_type": "markdown",
      "metadata": {
        "id": "NQ1wDi5IiFXz"
      },
      "source": [
        "# Importing Libraries to Build ANN"
      ]
    },
    {
      "cell_type": "code",
      "execution_count": 23,
      "metadata": {
        "id": "eOWL54HfiL_F"
      },
      "outputs": [],
      "source": [
        "import keras\n",
        "from keras.models import Sequential\n",
        "from keras.layers import Dense, Dropout"
      ]
    },
    {
      "cell_type": "markdown",
      "metadata": {
        "id": "DBE3vciMYfYl"
      },
      "source": [
        "# Initialising the ANN"
      ]
    },
    {
      "cell_type": "code",
      "execution_count": 24,
      "metadata": {
        "id": "Qj6TvO6lYlme"
      },
      "outputs": [],
      "source": [
        "classifier = Sequential()"
      ]
    },
    {
      "cell_type": "markdown",
      "metadata": {
        "id": "pXLItdCbY-A9"
      },
      "source": [
        "# Adding the input layer and first hidden layer with Dropout"
      ]
    },
    {
      "cell_type": "code",
      "execution_count": 25,
      "metadata": {
        "id": "IOcbWLMgZCTx"
      },
      "outputs": [],
      "source": [
        "# classifier.add(Dense(output_dim=6, init='uniform', activation='relu', input_dim=11))\n",
        "classifier.add(Dense(units = 6, kernel_initializer = 'uniform', activation = 'relu', input_dim = 11))\n",
        "# input_dim = 11 to specify the number of independent variable in the dataset because no layer has been created before\n",
        "classifier.add(Dropout(0.1))\n",
        "# p = {0.1, 0.2,.....,0.9}\n",
        "# these value indicates how many percent of neuron will be disabled in this layer\n",
        "# 0.1 means 10% neurons will be disabled in this layer\n",
        "# less then 0.5 is recommanded\n",
        "# using higher value may cause underfitting because there will be less neurons to learn from the training set"
      ]
    },
    {
      "cell_type": "markdown",
      "metadata": {
        "id": "pVl8DnTgd5Qu"
      },
      "source": [
        "# Adding the second hidden layer with Dropout"
      ]
    },
    {
      "cell_type": "code",
      "execution_count": 26,
      "metadata": {
        "id": "mHTknNfxd9Cg"
      },
      "outputs": [],
      "source": [
        "classifier.add(Dense(units = 6, kernel_initializer = 'uniform', activation = 'relu'))\n",
        "classifier.add(Dropout(0.1))"
      ]
    },
    {
      "cell_type": "markdown",
      "metadata": {
        "id": "J4Tm13z1fH_K"
      },
      "source": [
        "# Adding the output layer"
      ]
    },
    {
      "cell_type": "code",
      "execution_count": 27,
      "metadata": {
        "id": "-i8jmcgffK6n"
      },
      "outputs": [],
      "source": [
        "classifier.add(Dense(units = 1, kernel_initializer = 'uniform', activation = 'sigmoid'))\n",
        "# we want only one output in the output layer that's why units = 1\n",
        "# we have two categories in the dependent variable\n",
        "# if we have more that two categories in the dependent variable then we need to use activation='softmax'"
      ]
    },
    {
      "cell_type": "markdown",
      "metadata": {
        "id": "hUMl6xB1rVaZ"
      },
      "source": [
        "# Compiling the ANN"
      ]
    },
    {
      "cell_type": "code",
      "execution_count": 28,
      "metadata": {
        "id": "fssKL4DxrZRv"
      },
      "outputs": [],
      "source": [
        "classifier.compile(optimizer = 'adam', loss = 'binary_crossentropy', metrics = ['accuracy'])\n",
        "# optimizer = 'adam' is for stochastic gradient descent algorithm\n",
        "# loss = 'binary_crossentropy' this corresponds to the loss function within the adam stochastic gradient descent algorithm\n",
        "# metrics = ['accuracy'] is to evaluate and improve our model"
      ]
    },
    {
      "cell_type": "markdown",
      "metadata": {
        "id": "y8bqF6n4xl0g"
      },
      "source": [
        "# Fitting the ANN to the training set"
      ]
    },
    {
      "cell_type": "code",
      "execution_count": 29,
      "metadata": {
        "id": "3PaaUhoNxrAn",
        "colab": {
          "base_uri": "https://localhost:8080/"
        },
        "outputId": "642093b6-fd9c-4391-aafc-7f3f79b3ab32"
      },
      "outputs": [
        {
          "output_type": "stream",
          "name": "stdout",
          "text": [
            "Epoch 1/100\n",
            "800/800 [==============================] - 2s 2ms/step - loss: 0.4832 - accuracy: 0.7961\n",
            "Epoch 2/100\n",
            "800/800 [==============================] - 2s 2ms/step - loss: 0.4335 - accuracy: 0.7960\n",
            "Epoch 3/100\n",
            "800/800 [==============================] - 2s 3ms/step - loss: 0.4283 - accuracy: 0.7960\n",
            "Epoch 4/100\n",
            "800/800 [==============================] - 2s 2ms/step - loss: 0.4271 - accuracy: 0.7960\n",
            "Epoch 5/100\n",
            "800/800 [==============================] - 2s 2ms/step - loss: 0.4270 - accuracy: 0.8164\n",
            "Epoch 6/100\n",
            "800/800 [==============================] - 2s 2ms/step - loss: 0.4264 - accuracy: 0.8238\n",
            "Epoch 7/100\n",
            "800/800 [==============================] - 2s 2ms/step - loss: 0.4256 - accuracy: 0.8220\n",
            "Epoch 8/100\n",
            "800/800 [==============================] - 2s 2ms/step - loss: 0.4234 - accuracy: 0.8259\n",
            "Epoch 9/100\n",
            "800/800 [==============================] - 2s 2ms/step - loss: 0.4225 - accuracy: 0.8273\n",
            "Epoch 10/100\n",
            "800/800 [==============================] - 2s 3ms/step - loss: 0.4255 - accuracy: 0.8256\n",
            "Epoch 11/100\n",
            "800/800 [==============================] - 2s 3ms/step - loss: 0.4239 - accuracy: 0.8249\n",
            "Epoch 12/100\n",
            "800/800 [==============================] - 2s 2ms/step - loss: 0.4217 - accuracy: 0.8280\n",
            "Epoch 13/100\n",
            "800/800 [==============================] - 2s 2ms/step - loss: 0.4241 - accuracy: 0.8276\n",
            "Epoch 14/100\n",
            "800/800 [==============================] - 2s 2ms/step - loss: 0.4234 - accuracy: 0.8279\n",
            "Epoch 15/100\n",
            "800/800 [==============================] - 2s 2ms/step - loss: 0.4232 - accuracy: 0.8282\n",
            "Epoch 16/100\n",
            "800/800 [==============================] - 2s 2ms/step - loss: 0.4248 - accuracy: 0.8285\n",
            "Epoch 17/100\n",
            "800/800 [==============================] - 2s 2ms/step - loss: 0.4225 - accuracy: 0.8257\n",
            "Epoch 18/100\n",
            "800/800 [==============================] - 2s 3ms/step - loss: 0.4210 - accuracy: 0.8281\n",
            "Epoch 19/100\n",
            "800/800 [==============================] - 2s 2ms/step - loss: 0.4226 - accuracy: 0.8294\n",
            "Epoch 20/100\n",
            "800/800 [==============================] - 2s 2ms/step - loss: 0.4221 - accuracy: 0.8281\n",
            "Epoch 21/100\n",
            "800/800 [==============================] - 2s 2ms/step - loss: 0.4198 - accuracy: 0.8303\n",
            "Epoch 22/100\n",
            "800/800 [==============================] - 2s 2ms/step - loss: 0.4220 - accuracy: 0.8288\n",
            "Epoch 23/100\n",
            "800/800 [==============================] - 2s 2ms/step - loss: 0.4217 - accuracy: 0.8270\n",
            "Epoch 24/100\n",
            "800/800 [==============================] - 2s 2ms/step - loss: 0.4187 - accuracy: 0.8288\n",
            "Epoch 25/100\n",
            "800/800 [==============================] - 2s 3ms/step - loss: 0.4209 - accuracy: 0.8257\n",
            "Epoch 26/100\n",
            "800/800 [==============================] - 2s 3ms/step - loss: 0.4192 - accuracy: 0.8295\n",
            "Epoch 27/100\n",
            "800/800 [==============================] - 2s 2ms/step - loss: 0.4238 - accuracy: 0.8282\n",
            "Epoch 28/100\n",
            "800/800 [==============================] - 2s 2ms/step - loss: 0.4213 - accuracy: 0.8300\n",
            "Epoch 29/100\n",
            "800/800 [==============================] - 2s 2ms/step - loss: 0.4197 - accuracy: 0.8270\n",
            "Epoch 30/100\n",
            "800/800 [==============================] - 2s 2ms/step - loss: 0.4213 - accuracy: 0.8295\n",
            "Epoch 31/100\n",
            "800/800 [==============================] - 2s 2ms/step - loss: 0.4220 - accuracy: 0.8278\n",
            "Epoch 32/100\n",
            "800/800 [==============================] - 2s 2ms/step - loss: 0.4226 - accuracy: 0.8271\n",
            "Epoch 33/100\n",
            "800/800 [==============================] - 2s 3ms/step - loss: 0.4220 - accuracy: 0.8292\n",
            "Epoch 34/100\n",
            "800/800 [==============================] - 2s 2ms/step - loss: 0.4237 - accuracy: 0.8304\n",
            "Epoch 35/100\n",
            "800/800 [==============================] - 2s 2ms/step - loss: 0.4181 - accuracy: 0.8280\n",
            "Epoch 36/100\n",
            "800/800 [==============================] - 2s 2ms/step - loss: 0.4230 - accuracy: 0.8295\n",
            "Epoch 37/100\n",
            "800/800 [==============================] - 2s 2ms/step - loss: 0.4208 - accuracy: 0.8322\n",
            "Epoch 38/100\n",
            "800/800 [==============================] - 2s 2ms/step - loss: 0.4219 - accuracy: 0.8298\n",
            "Epoch 39/100\n",
            "800/800 [==============================] - 2s 2ms/step - loss: 0.4199 - accuracy: 0.8296\n",
            "Epoch 40/100\n",
            "800/800 [==============================] - 2s 3ms/step - loss: 0.4221 - accuracy: 0.8301\n",
            "Epoch 41/100\n",
            "800/800 [==============================] - 2s 3ms/step - loss: 0.4201 - accuracy: 0.8298\n",
            "Epoch 42/100\n",
            "800/800 [==============================] - 2s 2ms/step - loss: 0.4213 - accuracy: 0.8278\n",
            "Epoch 43/100\n",
            "800/800 [==============================] - 2s 2ms/step - loss: 0.4193 - accuracy: 0.8300\n",
            "Epoch 44/100\n",
            "800/800 [==============================] - 2s 2ms/step - loss: 0.4207 - accuracy: 0.8313\n",
            "Epoch 45/100\n",
            "800/800 [==============================] - 2s 2ms/step - loss: 0.4240 - accuracy: 0.8281\n",
            "Epoch 46/100\n",
            "800/800 [==============================] - 2s 2ms/step - loss: 0.4213 - accuracy: 0.8306\n",
            "Epoch 47/100\n",
            "800/800 [==============================] - 2s 2ms/step - loss: 0.4206 - accuracy: 0.8304\n",
            "Epoch 48/100\n",
            "800/800 [==============================] - 2s 3ms/step - loss: 0.4217 - accuracy: 0.8316\n",
            "Epoch 49/100\n",
            "800/800 [==============================] - 2s 2ms/step - loss: 0.4174 - accuracy: 0.8291\n",
            "Epoch 50/100\n",
            "800/800 [==============================] - 2s 2ms/step - loss: 0.4231 - accuracy: 0.8295\n",
            "Epoch 51/100\n",
            "800/800 [==============================] - 2s 2ms/step - loss: 0.4208 - accuracy: 0.8291\n",
            "Epoch 52/100\n",
            "800/800 [==============================] - 2s 2ms/step - loss: 0.4215 - accuracy: 0.8315\n",
            "Epoch 53/100\n",
            "800/800 [==============================] - 2s 2ms/step - loss: 0.4207 - accuracy: 0.8284\n",
            "Epoch 54/100\n",
            "800/800 [==============================] - 2s 2ms/step - loss: 0.4209 - accuracy: 0.8330\n",
            "Epoch 55/100\n",
            "800/800 [==============================] - 2s 3ms/step - loss: 0.4212 - accuracy: 0.8324\n",
            "Epoch 56/100\n",
            "800/800 [==============================] - 2s 3ms/step - loss: 0.4225 - accuracy: 0.8305\n",
            "Epoch 57/100\n",
            "800/800 [==============================] - 2s 2ms/step - loss: 0.4213 - accuracy: 0.8309\n",
            "Epoch 58/100\n",
            "800/800 [==============================] - 2s 2ms/step - loss: 0.4225 - accuracy: 0.8300\n",
            "Epoch 59/100\n",
            "800/800 [==============================] - 2s 2ms/step - loss: 0.4189 - accuracy: 0.8320\n",
            "Epoch 60/100\n",
            "800/800 [==============================] - 2s 2ms/step - loss: 0.4207 - accuracy: 0.8265\n",
            "Epoch 61/100\n",
            "800/800 [==============================] - 2s 2ms/step - loss: 0.4249 - accuracy: 0.8311\n",
            "Epoch 62/100\n",
            "800/800 [==============================] - 2s 2ms/step - loss: 0.4215 - accuracy: 0.8303\n",
            "Epoch 63/100\n",
            "800/800 [==============================] - 2s 3ms/step - loss: 0.4172 - accuracy: 0.8310\n",
            "Epoch 64/100\n",
            "800/800 [==============================] - 2s 2ms/step - loss: 0.4202 - accuracy: 0.8301\n",
            "Epoch 65/100\n",
            "800/800 [==============================] - 2s 2ms/step - loss: 0.4166 - accuracy: 0.8317\n",
            "Epoch 66/100\n",
            "800/800 [==============================] - 2s 2ms/step - loss: 0.4191 - accuracy: 0.8299\n",
            "Epoch 67/100\n",
            "800/800 [==============================] - 2s 2ms/step - loss: 0.4196 - accuracy: 0.8292\n",
            "Epoch 68/100\n",
            "800/800 [==============================] - 2s 2ms/step - loss: 0.4224 - accuracy: 0.8311\n",
            "Epoch 69/100\n",
            "800/800 [==============================] - 2s 2ms/step - loss: 0.4228 - accuracy: 0.8305\n",
            "Epoch 70/100\n",
            "800/800 [==============================] - 2s 3ms/step - loss: 0.4181 - accuracy: 0.8326\n",
            "Epoch 71/100\n",
            "800/800 [==============================] - 2s 3ms/step - loss: 0.4211 - accuracy: 0.8285\n",
            "Epoch 72/100\n",
            "800/800 [==============================] - 2s 2ms/step - loss: 0.4192 - accuracy: 0.8316\n",
            "Epoch 73/100\n",
            "800/800 [==============================] - 2s 2ms/step - loss: 0.4198 - accuracy: 0.8346\n",
            "Epoch 74/100\n",
            "800/800 [==============================] - 2s 2ms/step - loss: 0.4236 - accuracy: 0.8304\n",
            "Epoch 75/100\n",
            "800/800 [==============================] - 2s 2ms/step - loss: 0.4211 - accuracy: 0.8329\n",
            "Epoch 76/100\n",
            "800/800 [==============================] - 2s 2ms/step - loss: 0.4208 - accuracy: 0.8306\n",
            "Epoch 77/100\n",
            "800/800 [==============================] - 2s 2ms/step - loss: 0.4185 - accuracy: 0.8335\n",
            "Epoch 78/100\n",
            "800/800 [==============================] - 2s 3ms/step - loss: 0.4206 - accuracy: 0.8328\n",
            "Epoch 79/100\n",
            "800/800 [==============================] - 2s 2ms/step - loss: 0.4214 - accuracy: 0.8328\n",
            "Epoch 80/100\n",
            "800/800 [==============================] - 2s 2ms/step - loss: 0.4203 - accuracy: 0.8295\n",
            "Epoch 81/100\n",
            "800/800 [==============================] - 2s 2ms/step - loss: 0.4200 - accuracy: 0.8311\n",
            "Epoch 82/100\n",
            "800/800 [==============================] - 2s 2ms/step - loss: 0.4217 - accuracy: 0.8321\n",
            "Epoch 83/100\n",
            "800/800 [==============================] - 2s 2ms/step - loss: 0.4181 - accuracy: 0.8345\n",
            "Epoch 84/100\n",
            "800/800 [==============================] - 2s 2ms/step - loss: 0.4147 - accuracy: 0.8330\n",
            "Epoch 85/100\n",
            "800/800 [==============================] - 2s 2ms/step - loss: 0.4182 - accuracy: 0.8324\n",
            "Epoch 86/100\n",
            "800/800 [==============================] - 2s 3ms/step - loss: 0.4193 - accuracy: 0.8324\n",
            "Epoch 87/100\n",
            "800/800 [==============================] - 2s 2ms/step - loss: 0.4193 - accuracy: 0.8334\n",
            "Epoch 88/100\n",
            "800/800 [==============================] - 2s 2ms/step - loss: 0.4157 - accuracy: 0.8315\n",
            "Epoch 89/100\n",
            "800/800 [==============================] - 2s 2ms/step - loss: 0.4173 - accuracy: 0.8351\n",
            "Epoch 90/100\n",
            "800/800 [==============================] - 2s 2ms/step - loss: 0.4205 - accuracy: 0.8321\n",
            "Epoch 91/100\n",
            "800/800 [==============================] - 2s 2ms/step - loss: 0.4163 - accuracy: 0.8314\n",
            "Epoch 92/100\n",
            "800/800 [==============================] - 2s 2ms/step - loss: 0.4188 - accuracy: 0.8316\n",
            "Epoch 93/100\n",
            "800/800 [==============================] - 2s 3ms/step - loss: 0.4185 - accuracy: 0.8349\n",
            "Epoch 94/100\n",
            "800/800 [==============================] - 2s 3ms/step - loss: 0.4225 - accuracy: 0.8315\n",
            "Epoch 95/100\n",
            "800/800 [==============================] - 2s 2ms/step - loss: 0.4179 - accuracy: 0.8310\n",
            "Epoch 96/100\n",
            "800/800 [==============================] - 2s 2ms/step - loss: 0.4171 - accuracy: 0.8324\n",
            "Epoch 97/100\n",
            "800/800 [==============================] - 2s 2ms/step - loss: 0.4187 - accuracy: 0.8314\n",
            "Epoch 98/100\n",
            "800/800 [==============================] - 2s 2ms/step - loss: 0.4193 - accuracy: 0.8336\n",
            "Epoch 99/100\n",
            "800/800 [==============================] - 2s 2ms/step - loss: 0.4201 - accuracy: 0.8322\n",
            "Epoch 100/100\n",
            "800/800 [==============================] - 2s 2ms/step - loss: 0.4195 - accuracy: 0.8326\n"
          ]
        },
        {
          "output_type": "execute_result",
          "data": {
            "text/plain": [
              "<keras.callbacks.History at 0x7ffb4426bee0>"
            ]
          },
          "metadata": {},
          "execution_count": 29
        }
      ],
      "source": [
        "classifier.fit(x_train, y_train, batch_size=10, epochs=100)"
      ]
    },
    {
      "cell_type": "markdown",
      "metadata": {
        "id": "GegGuOWn15cE"
      },
      "source": [
        "# Predicting the test set results"
      ]
    },
    {
      "cell_type": "code",
      "execution_count": 30,
      "metadata": {
        "id": "5etobd5_19_Q",
        "colab": {
          "base_uri": "https://localhost:8080/"
        },
        "outputId": "ddd1bdd5-7c29-4c13-80fe-ef0b3f553af6"
      },
      "outputs": [
        {
          "output_type": "stream",
          "name": "stdout",
          "text": [
            "63/63 [==============================] - 0s 2ms/step\n"
          ]
        }
      ],
      "source": [
        "y_pred = classifier.predict(x_test)\n",
        "y_pred = (y_pred > 0.5)"
      ]
    },
    {
      "cell_type": "code",
      "execution_count": 31,
      "metadata": {
        "id": "cRy3wfjG2Kio",
        "colab": {
          "base_uri": "https://localhost:8080/"
        },
        "outputId": "b8bae288-6837-44ec-d8ad-a2c754789a01"
      },
      "outputs": [
        {
          "output_type": "stream",
          "name": "stdout",
          "text": [
            "[[False]\n",
            " [False]\n",
            " [False]\n",
            " ...\n",
            " [False]\n",
            " [False]\n",
            " [False]]\n"
          ]
        }
      ],
      "source": [
        "print(y_pred)"
      ]
    },
    {
      "cell_type": "markdown",
      "metadata": {
        "id": "OT1C66D_M8f4"
      },
      "source": [
        "# Exporting the predicted result to see the whole result"
      ]
    },
    {
      "cell_type": "code",
      "execution_count": 32,
      "metadata": {
        "id": "TRJXzAsGKDtR"
      },
      "outputs": [],
      "source": [
        "np.savetxt('data.csv', y_pred, delimiter=',')"
      ]
    },
    {
      "cell_type": "markdown",
      "metadata": {
        "id": "yjGhZeesEXAl"
      },
      "source": [
        "# Predicting single employee"
      ]
    },
    {
      "cell_type": "code",
      "execution_count": 33,
      "metadata": {
        "id": "p-sVIj6mEdlV",
        "colab": {
          "base_uri": "https://localhost:8080/"
        },
        "outputId": "1b18c2d8-b7c7-4b66-fdf1-1c2471f97670"
      },
      "outputs": [
        {
          "output_type": "stream",
          "name": "stdout",
          "text": [
            "1/1 [==============================] - 0s 41ms/step\n",
            "[[False]]\n"
          ]
        }
      ],
      "source": [
        "'''\n",
        "Geography: France\n",
        "Credit score: 600\n",
        "Gender: Male\n",
        "Age: 40\n",
        "Tenure: 3\n",
        "Balance: 60000\n",
        "Number of Products: 2\n",
        "Has credit card: Yes\n",
        "Is active member: Yes\n",
        "Estimated salary: 50000\n",
        "'''\n",
        "new_prediction = classifier.predict(sc.transform(np.array([[0.0, 0, 600, 1, 40, 3, 60000, 2, 1, 1, 50000]])))\n",
        "new_prediction = (new_prediction > 0.5)\n",
        "print(new_prediction)"
      ]
    },
    {
      "cell_type": "markdown",
      "metadata": {
        "id": "cja_aULu2WJz"
      },
      "source": [
        "# Making the confussion matrix"
      ]
    },
    {
      "cell_type": "code",
      "execution_count": 34,
      "metadata": {
        "id": "2U5dFtTU2bng"
      },
      "outputs": [],
      "source": [
        "from sklearn.metrics import confusion_matrix\n",
        "cm = confusion_matrix(y_test, y_pred)"
      ]
    },
    {
      "cell_type": "code",
      "execution_count": 35,
      "metadata": {
        "id": "vyqTY6Ny37jp",
        "colab": {
          "base_uri": "https://localhost:8080/"
        },
        "outputId": "f5333a7b-22cb-4288-d54c-2dd09b255a50"
      },
      "outputs": [
        {
          "output_type": "stream",
          "name": "stdout",
          "text": [
            "[[1556   39]\n",
            " [ 283  122]]\n"
          ]
        }
      ],
      "source": [
        "print(cm)"
      ]
    },
    {
      "cell_type": "code",
      "execution_count": 36,
      "metadata": {
        "id": "U-s8WNe74XPn",
        "colab": {
          "base_uri": "https://localhost:8080/"
        },
        "outputId": "a2842ae6-1481-4209-93d5-09bd2c325595"
      },
      "outputs": [
        {
          "output_type": "stream",
          "name": "stdout",
          "text": [
            "Accuracy:  83.89999999999999 %\n"
          ]
        }
      ],
      "source": [
        "print('Accuracy: ', ((1556 + 122)/2000)*100, '%')"
      ]
    },
    {
      "cell_type": "markdown",
      "metadata": {
        "id": "ZNlwY6U6rVpA"
      },
      "source": [
        "# Evaluating the ANN"
      ]
    },
    {
      "cell_type": "code",
      "execution_count": 37,
      "metadata": {
        "id": "okyRIGCSrb5A"
      },
      "outputs": [],
      "source": [
        "from keras.wrappers.scikit_learn import KerasClassifier\n",
        "from sklearn.model_selection import cross_val_score"
      ]
    },
    {
      "cell_type": "code",
      "execution_count": 38,
      "metadata": {
        "id": "sBk2cXL_sY6v",
        "colab": {
          "base_uri": "https://localhost:8080/"
        },
        "outputId": "32d16635-cd8c-4ef1-f3ff-dda7f393fad1"
      },
      "outputs": [
        {
          "output_type": "stream",
          "name": "stderr",
          "text": [
            "<ipython-input-38-8c6618ac033b>:9: DeprecationWarning: KerasClassifier is deprecated, use Sci-Keras (https://github.com/adriangb/scikeras) instead. See https://www.adriangb.com/scikeras/stable/migration.html for help migrating.\n",
            "  classifier = KerasClassifier(build_fn = build_classifier, batch_size = 10, nb_epoch = 100)\n"
          ]
        }
      ],
      "source": [
        "def build_classifier():\n",
        "  classifier = Sequential()\n",
        "  classifier.add(Dense(units = 6, kernel_initializer = 'uniform', activation = 'relu', input_dim = 11))\n",
        "  classifier.add(Dense(units = 6, kernel_initializer = 'uniform', activation = 'relu'))\n",
        "  classifier.add(Dense(units = 1, kernel_initializer = 'uniform', activation = 'sigmoid'))\n",
        "  classifier.compile(optimizer = 'adam', loss = 'binary_crossentropy', metrics = ['accuracy'])\n",
        "  return classifier\n",
        "\n",
        "classifier = KerasClassifier(build_fn = build_classifier, batch_size = 10, nb_epoch = 100)\n",
        "accuracies = cross_val_score(estimator = classifier, X = x_train, y = y_train, cv = 10, n_jobs = -1)"
      ]
    },
    {
      "cell_type": "code",
      "execution_count": 39,
      "metadata": {
        "id": "BVcuVlAh1vJq",
        "colab": {
          "base_uri": "https://localhost:8080/"
        },
        "outputId": "1ac01481-26d3-4149-f8f9-9cd1cde21103"
      },
      "outputs": [
        {
          "output_type": "stream",
          "name": "stdout",
          "text": [
            "Mean accuracy =  0.7966250121593476\n",
            "Variance =  0.010444046768395238\n"
          ]
        }
      ],
      "source": [
        "print('Mean accuracy = ',accuracies.mean())\n",
        "print('Variance = ', accuracies.std())"
      ]
    },
    {
      "cell_type": "markdown",
      "metadata": {
        "id": "dhnjgWDHBGKs"
      },
      "source": [
        "# Tuning the ANN"
      ]
    },
    {
      "cell_type": "code",
      "execution_count": 40,
      "metadata": {
        "id": "TQn7Yt6AGIsA"
      },
      "outputs": [],
      "source": [
        "import keras\n",
        "from keras.models import Sequential\n",
        "from keras.layers import Dense, Dropout\n",
        "from keras.wrappers.scikit_learn import KerasClassifier\n",
        "from sklearn.model_selection import GridSearchCV"
      ]
    },
    {
      "cell_type": "code",
      "source": [
        "def build_classifier(optimizer):\n",
        "  classifier = Sequential()\n",
        "  classifier.add(Dense(units = 6, kernel_initializer = 'uniform', activation = 'relu', input_dim = 11))\n",
        "  classifier.add(Dense(units = 6, kernel_initializer = 'uniform', activation = 'relu'))\n",
        "  classifier.add(Dense(units = 1, kernel_initializer = 'uniform', activation = 'sigmoid'))\n",
        "  classifier.compile(optimizer = optimizer, loss = 'binary_crossentropy', metrics = ['accuracy'])\n",
        "  return classifier\n",
        "\n",
        "classifier = KerasClassifier(build_fn = build_classifier)\n",
        "parameters = {\n",
        "    'batch_size': [25, 32],\n",
        "    'nb_epoch': [100, 500],\n",
        "    'optimizer': ['adam', 'rmsprop']\n",
        "}\n",
        "\n",
        "grid_search = GridSearchCV(estimator = classifier, param_grid = parameters, scoring = 'accuracy', cv = 10)\n",
        "\n",
        "grid_search = grid_search.fit(x_train, y_train)\n",
        "\n",
        "best_parameters = grid_search.best_params_\n",
        "best_accuracy = grid_search.best_score_"
      ],
      "metadata": {
        "colab": {
          "base_uri": "https://localhost:8080/"
        },
        "id": "l2u5zKMiIA1y",
        "outputId": "074c3f8d-00e2-4a98-93b9-c6931d57ceda"
      },
      "execution_count": 41,
      "outputs": [
        {
          "output_type": "stream",
          "name": "stderr",
          "text": [
            "<ipython-input-41-979242569080>:9: DeprecationWarning: KerasClassifier is deprecated, use Sci-Keras (https://github.com/adriangb/scikeras) instead. See https://www.adriangb.com/scikeras/stable/migration.html for help migrating.\n",
            "  classifier = KerasClassifier(build_fn = build_classifier)\n"
          ]
        },
        {
          "output_type": "stream",
          "name": "stdout",
          "text": [
            "288/288 [==============================] - 1s 2ms/step - loss: 0.5764 - accuracy: 0.7942\n",
            "25/25 [==============================] - 0s 1ms/step\n",
            "288/288 [==============================] - 1s 2ms/step - loss: 0.5492 - accuracy: 0.7967\n",
            "25/25 [==============================] - 0s 2ms/step\n",
            "288/288 [==============================] - 1s 2ms/step - loss: 0.5793 - accuracy: 0.7942\n",
            "25/25 [==============================] - 0s 1ms/step\n",
            "288/288 [==============================] - 1s 2ms/step - loss: 0.5463 - accuracy: 0.7971\n",
            "25/25 [==============================] - 0s 2ms/step\n",
            "288/288 [==============================] - 1s 2ms/step - loss: 0.5794 - accuracy: 0.7932\n",
            "25/25 [==============================] - 0s 2ms/step\n",
            "288/288 [==============================] - 1s 2ms/step - loss: 0.5545 - accuracy: 0.7943\n",
            "25/25 [==============================] - 0s 2ms/step\n",
            "288/288 [==============================] - 2s 3ms/step - loss: 0.5540 - accuracy: 0.7971\n",
            "25/25 [==============================] - 0s 1ms/step\n",
            "288/288 [==============================] - 1s 2ms/step - loss: 0.5637 - accuracy: 0.7940\n",
            "25/25 [==============================] - 0s 1ms/step\n",
            "288/288 [==============================] - 1s 2ms/step - loss: 0.5559 - accuracy: 0.7957\n",
            "25/25 [==============================] - 0s 1ms/step\n",
            "288/288 [==============================] - 1s 2ms/step - loss: 0.5418 - accuracy: 0.7961\n",
            "25/25 [==============================] - 0s 1ms/step\n",
            "288/288 [==============================] - 1s 2ms/step - loss: 0.5765 - accuracy: 0.7958\n",
            "25/25 [==============================] - 0s 2ms/step\n",
            "288/288 [==============================] - 1s 2ms/step - loss: 0.5818 - accuracy: 0.7965\n",
            "25/25 [==============================] - 0s 1ms/step\n",
            "288/288 [==============================] - 1s 2ms/step - loss: 0.5784 - accuracy: 0.7942\n",
            "25/25 [==============================] - 0s 2ms/step\n",
            "288/288 [==============================] - 2s 3ms/step - loss: 0.5716 - accuracy: 0.7975\n",
            "25/25 [==============================] - 0s 1ms/step\n",
            "288/288 [==============================] - 1s 2ms/step - loss: 0.6086 - accuracy: 0.7924\n",
            "25/25 [==============================] - 0s 2ms/step\n",
            "288/288 [==============================] - 1s 2ms/step - loss: 0.5956 - accuracy: 0.7928\n",
            "25/25 [==============================] - 0s 1ms/step\n",
            "288/288 [==============================] - 1s 2ms/step - loss: 0.5827 - accuracy: 0.7962\n",
            "25/25 [==============================] - 0s 2ms/step\n",
            "288/288 [==============================] - 1s 2ms/step - loss: 0.5898 - accuracy: 0.7951\n",
            "25/25 [==============================] - 0s 2ms/step\n",
            "288/288 [==============================] - 1s 2ms/step - loss: 0.5673 - accuracy: 0.7957\n",
            "25/25 [==============================] - 0s 1ms/step\n",
            "288/288 [==============================] - 1s 2ms/step - loss: 0.5800 - accuracy: 0.7956\n",
            "25/25 [==============================] - 0s 1ms/step\n",
            "288/288 [==============================] - 1s 2ms/step - loss: 0.5596 - accuracy: 0.7964\n",
            "25/25 [==============================] - 0s 1ms/step\n",
            "288/288 [==============================] - 2s 3ms/step - loss: 0.5639 - accuracy: 0.7935\n",
            "25/25 [==============================] - 1s 2ms/step\n",
            "288/288 [==============================] - 1s 2ms/step - loss: 0.5637 - accuracy: 0.7940\n",
            "25/25 [==============================] - 0s 1ms/step\n",
            "288/288 [==============================] - 1s 2ms/step - loss: 0.5997 - accuracy: 0.7961\n",
            "25/25 [==============================] - 0s 1ms/step\n",
            "288/288 [==============================] - 1s 2ms/step - loss: 0.6006 - accuracy: 0.7912\n",
            "25/25 [==============================] - 0s 1ms/step\n",
            "288/288 [==============================] - 1s 2ms/step - loss: 0.5557 - accuracy: 0.7939\n",
            "25/25 [==============================] - 0s 1ms/step\n",
            "288/288 [==============================] - 1s 2ms/step - loss: 0.5639 - accuracy: 0.7965\n",
            "25/25 [==============================] - 0s 1ms/step\n",
            "288/288 [==============================] - 1s 2ms/step - loss: 0.5624 - accuracy: 0.7953\n",
            "25/25 [==============================] - 0s 2ms/step\n",
            "288/288 [==============================] - 2s 2ms/step - loss: 0.5600 - accuracy: 0.7939\n",
            "25/25 [==============================] - 0s 1ms/step\n",
            "288/288 [==============================] - 1s 2ms/step - loss: 0.5477 - accuracy: 0.7961\n",
            "25/25 [==============================] - 0s 2ms/step\n",
            "288/288 [==============================] - 1s 2ms/step - loss: 0.5745 - accuracy: 0.7960\n",
            "25/25 [==============================] - 0s 1ms/step\n",
            "288/288 [==============================] - 1s 2ms/step - loss: 0.6007 - accuracy: 0.7940\n",
            "25/25 [==============================] - 0s 1ms/step\n",
            "288/288 [==============================] - 1s 2ms/step - loss: 0.5926 - accuracy: 0.7942\n",
            "25/25 [==============================] - 0s 2ms/step\n",
            "288/288 [==============================] - 1s 2ms/step - loss: 0.5752 - accuracy: 0.7974\n",
            "25/25 [==============================] - 0s 1ms/step\n",
            "288/288 [==============================] - 1s 2ms/step - loss: 0.5893 - accuracy: 0.7919\n",
            "25/25 [==============================] - 0s 1ms/step\n",
            "288/288 [==============================] - 1s 2ms/step - loss: 0.5912 - accuracy: 0.7940\n",
            "25/25 [==============================] - 0s 3ms/step\n",
            "288/288 [==============================] - 2s 2ms/step - loss: 0.5984 - accuracy: 0.7951\n",
            "25/25 [==============================] - 0s 1ms/step\n",
            "288/288 [==============================] - 1s 2ms/step - loss: 0.5752 - accuracy: 0.7962\n",
            "25/25 [==============================] - 0s 1ms/step\n",
            "288/288 [==============================] - 1s 2ms/step - loss: 0.5902 - accuracy: 0.7939\n",
            "25/25 [==============================] - 0s 1ms/step\n",
            "288/288 [==============================] - 1s 2ms/step - loss: 0.5754 - accuracy: 0.7961\n",
            "25/25 [==============================] - 0s 1ms/step\n",
            "225/225 [==============================] - 1s 2ms/step - loss: 0.5741 - accuracy: 0.7971\n",
            "25/25 [==============================] - 0s 2ms/step\n",
            "225/225 [==============================] - 1s 2ms/step - loss: 0.5997 - accuracy: 0.7943\n",
            "25/25 [==============================] - 0s 2ms/step\n",
            "225/225 [==============================] - 1s 3ms/step - loss: 0.5935 - accuracy: 0.7951\n",
            "25/25 [==============================] - 0s 2ms/step\n",
            "225/225 [==============================] - 2s 2ms/step - loss: 0.5819 - accuracy: 0.7961\n",
            "25/25 [==============================] - 0s 2ms/step\n",
            "225/225 [==============================] - 1s 2ms/step - loss: 0.5740 - accuracy: 0.7925\n",
            "25/25 [==============================] - 0s 1ms/step\n",
            "225/225 [==============================] - 1s 2ms/step - loss: 0.5739 - accuracy: 0.7944\n",
            "25/25 [==============================] - 0s 1ms/step\n",
            "225/225 [==============================] - 1s 2ms/step - loss: 0.5774 - accuracy: 0.7964\n",
            "25/25 [==============================] - 0s 1ms/step\n",
            "225/225 [==============================] - 1s 2ms/step - loss: 0.5952 - accuracy: 0.7932\n",
            "25/25 [==============================] - 0s 1ms/step\n",
            "225/225 [==============================] - 1s 2ms/step - loss: 0.6059 - accuracy: 0.7936\n",
            "25/25 [==============================] - 0s 1ms/step\n",
            "225/225 [==============================] - 1s 2ms/step - loss: 0.5912 - accuracy: 0.7943\n",
            "25/25 [==============================] - 0s 2ms/step\n",
            "225/225 [==============================] - 1s 3ms/step - loss: 0.6008 - accuracy: 0.7971\n",
            "25/25 [==============================] - 0s 2ms/step\n",
            "225/225 [==============================] - 1s 2ms/step - loss: 0.6110 - accuracy: 0.7949\n",
            "25/25 [==============================] - 0s 2ms/step\n",
            "225/225 [==============================] - 1s 2ms/step - loss: 0.6065 - accuracy: 0.7949\n",
            "25/25 [==============================] - 0s 1ms/step\n",
            "225/225 [==============================] - 1s 2ms/step - loss: 0.6182 - accuracy: 0.7944\n",
            "25/25 [==============================] - 0s 2ms/step\n",
            "225/225 [==============================] - 1s 2ms/step - loss: 0.6020 - accuracy: 0.7937\n",
            "25/25 [==============================] - 0s 1ms/step\n",
            "225/225 [==============================] - 1s 2ms/step - loss: 0.6303 - accuracy: 0.7935\n",
            "25/25 [==============================] - 0s 2ms/step\n",
            "225/225 [==============================] - 1s 2ms/step - loss: 0.6090 - accuracy: 0.7969\n",
            "25/25 [==============================] - 0s 1ms/step\n",
            "225/225 [==============================] - 1s 2ms/step - loss: 0.6208 - accuracy: 0.7950\n",
            "25/25 [==============================] - 0s 1ms/step\n",
            "225/225 [==============================] - 1s 3ms/step - loss: 0.6296 - accuracy: 0.7935\n",
            "25/25 [==============================] - 0s 3ms/step\n",
            "225/225 [==============================] - 1s 3ms/step - loss: 0.6011 - accuracy: 0.7960\n",
            "25/25 [==============================] - 0s 1ms/step\n",
            "225/225 [==============================] - 1s 2ms/step - loss: 0.5839 - accuracy: 0.7962\n",
            "25/25 [==============================] - 0s 1ms/step\n",
            "225/225 [==============================] - 1s 2ms/step - loss: 0.5693 - accuracy: 0.7967\n",
            "25/25 [==============================] - 0s 1ms/step\n",
            "225/225 [==============================] - 1s 2ms/step - loss: 0.6045 - accuracy: 0.7951\n",
            "25/25 [==============================] - 0s 1ms/step\n",
            "225/225 [==============================] - 1s 2ms/step - loss: 0.5789 - accuracy: 0.7968\n",
            "25/25 [==============================] - 0s 1ms/step\n",
            "225/225 [==============================] - 1s 2ms/step - loss: 0.5835 - accuracy: 0.7933\n",
            "25/25 [==============================] - 0s 2ms/step\n",
            "225/225 [==============================] - 1s 2ms/step - loss: 0.5798 - accuracy: 0.7932\n",
            "25/25 [==============================] - 0s 1ms/step\n",
            "225/225 [==============================] - 2s 3ms/step - loss: 0.5885 - accuracy: 0.7958\n",
            "25/25 [==============================] - 0s 1ms/step\n",
            "225/225 [==============================] - 1s 2ms/step - loss: 0.6045 - accuracy: 0.7940\n",
            "25/25 [==============================] - 0s 1ms/step\n",
            "225/225 [==============================] - 1s 2ms/step - loss: 0.5731 - accuracy: 0.7956\n",
            "25/25 [==============================] - 0s 1ms/step\n",
            "225/225 [==============================] - 1s 2ms/step - loss: 0.6393 - accuracy: 0.7935\n",
            "25/25 [==============================] - 0s 1ms/step\n",
            "225/225 [==============================] - 1s 2ms/step - loss: 0.6072 - accuracy: 0.7960\n",
            "25/25 [==============================] - 0s 2ms/step\n",
            "225/225 [==============================] - 1s 2ms/step - loss: 0.6019 - accuracy: 0.7967\n",
            "25/25 [==============================] - 0s 1ms/step\n",
            "225/225 [==============================] - 1s 2ms/step - loss: 0.6066 - accuracy: 0.7947\n",
            "25/25 [==============================] - 0s 1ms/step\n",
            "225/225 [==============================] - 1s 3ms/step - loss: 0.6444 - accuracy: 0.7961\n",
            "25/25 [==============================] - 0s 2ms/step\n",
            "225/225 [==============================] - 1s 2ms/step - loss: 0.6613 - accuracy: 0.7901\n",
            "25/25 [==============================] - 0s 1ms/step\n",
            "225/225 [==============================] - 1s 2ms/step - loss: 0.6278 - accuracy: 0.7917\n",
            "25/25 [==============================] - 0s 1ms/step\n",
            "225/225 [==============================] - 1s 2ms/step - loss: 0.6178 - accuracy: 0.7957\n",
            "25/25 [==============================] - 0s 1ms/step\n",
            "225/225 [==============================] - 1s 2ms/step - loss: 0.6007 - accuracy: 0.7960\n",
            "25/25 [==============================] - 0s 1ms/step\n",
            "225/225 [==============================] - 1s 2ms/step - loss: 0.6070 - accuracy: 0.7940\n",
            "25/25 [==============================] - 0s 1ms/step\n",
            "225/225 [==============================] - 1s 2ms/step - loss: 0.6250 - accuracy: 0.7943\n",
            "25/25 [==============================] - 0s 2ms/step\n",
            "320/320 [==============================] - 1s 2ms/step - loss: 0.5566 - accuracy: 0.7954\n"
          ]
        }
      ]
    },
    {
      "cell_type": "code",
      "source": [
        "print(best_accuracy)"
      ],
      "metadata": {
        "colab": {
          "base_uri": "https://localhost:8080/"
        },
        "id": "XGB9QYBMM06d",
        "outputId": "92f7366c-d0f1-4690-c1be-35ef8b7907e2"
      },
      "execution_count": 42,
      "outputs": [
        {
          "output_type": "stream",
          "name": "stdout",
          "text": [
            "0.796\n"
          ]
        }
      ]
    },
    {
      "cell_type": "code",
      "source": [
        "print(best_parameters)"
      ],
      "metadata": {
        "colab": {
          "base_uri": "https://localhost:8080/"
        },
        "id": "az_OAnsINOOW",
        "outputId": "397bf8a7-20fd-4404-82fa-2c2677cbea29"
      },
      "execution_count": 43,
      "outputs": [
        {
          "output_type": "stream",
          "name": "stdout",
          "text": [
            "{'batch_size': 25, 'nb_epoch': 100, 'optimizer': 'adam'}\n"
          ]
        }
      ]
    }
  ],
  "metadata": {
    "colab": {
      "provenance": [],
      "authorship_tag": "ABX9TyMaxv9pFx9eCg68g6JFo0Vi",
      "include_colab_link": true
    },
    "kernelspec": {
      "display_name": "Python 3",
      "name": "python3"
    },
    "language_info": {
      "name": "python"
    }
  },
  "nbformat": 4,
  "nbformat_minor": 0
}