{
  "nbformat": 4,
  "nbformat_minor": 0,
  "metadata": {
    "colab": {
      "provenance": [],
      "authorship_tag": "ABX9TyMpsNbBTPghpd2Du91oWC6G",
      "include_colab_link": true
    },
    "kernelspec": {
      "name": "python3",
      "display_name": "Python 3"
    },
    "language_info": {
      "name": "python"
    }
  },
  "cells": [
    {
      "cell_type": "markdown",
      "metadata": {
        "id": "view-in-github",
        "colab_type": "text"
      },
      "source": [
        "<a href=\"https://colab.research.google.com/github/Muntasir2179/Deep-Learning/blob/Artificial-Neural-Network-(ANN)/ANN.ipynb\" target=\"_parent\"><img src=\"https://colab.research.google.com/assets/colab-badge.svg\" alt=\"Open In Colab\"/></a>"
      ]
    },
    {
      "cell_type": "markdown",
      "source": [
        "# Importing Libraries"
      ],
      "metadata": {
        "id": "TT-DX-oBM_cS"
      }
    },
    {
      "cell_type": "code",
      "source": [
        "import numpy as np\n",
        "import matplotlib.pyplot as plt\n",
        "import pandas as pd"
      ],
      "metadata": {
        "id": "kMbgCQhWNE6d"
      },
      "execution_count": 1,
      "outputs": []
    },
    {
      "cell_type": "markdown",
      "source": [
        "# Importing dataset"
      ],
      "metadata": {
        "id": "5RT8wmlCQWUC"
      }
    },
    {
      "cell_type": "code",
      "source": [
        "dataset = pd.read_csv('Churn_Modelling.csv')\n",
        "x = dataset.iloc[:, 3:13].values\n",
        "y = dataset.iloc[:, 13].values"
      ],
      "metadata": {
        "id": "drjM_aHvQafC"
      },
      "execution_count": 2,
      "outputs": []
    },
    {
      "cell_type": "code",
      "source": [
        "print(x)"
      ],
      "metadata": {
        "colab": {
          "base_uri": "https://localhost:8080/"
        },
        "id": "5N9WUl6_S_xi",
        "outputId": "d1f5e88b-d0fe-4422-ed8d-f52a1b1e2eb5"
      },
      "execution_count": 3,
      "outputs": [
        {
          "output_type": "stream",
          "name": "stdout",
          "text": [
            "[[619 'France' 'Female' ... 1 1 101348.88]\n",
            " [608 'Spain' 'Female' ... 0 1 112542.58]\n",
            " [502 'France' 'Female' ... 1 0 113931.57]\n",
            " ...\n",
            " [709 'France' 'Female' ... 0 1 42085.58]\n",
            " [772 'Germany' 'Male' ... 1 0 92888.52]\n",
            " [792 'France' 'Female' ... 1 0 38190.78]]\n"
          ]
        }
      ]
    },
    {
      "cell_type": "code",
      "source": [
        "print(y)"
      ],
      "metadata": {
        "colab": {
          "base_uri": "https://localhost:8080/"
        },
        "id": "-c1_TuY5TB7S",
        "outputId": "2436f9ae-0dbe-4f57-e9c2-13d02db76a35"
      },
      "execution_count": 4,
      "outputs": [
        {
          "output_type": "stream",
          "name": "stdout",
          "text": [
            "[1 0 1 ... 1 1 0]\n"
          ]
        }
      ]
    },
    {
      "cell_type": "markdown",
      "source": [
        "# Encoding categorical variable"
      ],
      "metadata": {
        "id": "4ovujtzCTq5p"
      }
    },
    {
      "cell_type": "code",
      "source": [
        "from sklearn.preprocessing import LabelEncoder, OneHotEncoder\n",
        "labelencoder_x_1 = LabelEncoder()\n",
        "x[:, 1] = labelencoder_x_1.fit_transform(x[:, 1])"
      ],
      "metadata": {
        "id": "jY8wumsdTvQi"
      },
      "execution_count": 5,
      "outputs": []
    },
    {
      "cell_type": "code",
      "source": [
        "print(x)"
      ],
      "metadata": {
        "colab": {
          "base_uri": "https://localhost:8080/"
        },
        "id": "sCeqz6VAVoNp",
        "outputId": "dab3c77f-41ba-40bd-be36-ec2aee6b2504"
      },
      "execution_count": 6,
      "outputs": [
        {
          "output_type": "stream",
          "name": "stdout",
          "text": [
            "[[619 0 'Female' ... 1 1 101348.88]\n",
            " [608 2 'Female' ... 0 1 112542.58]\n",
            " [502 0 'Female' ... 1 0 113931.57]\n",
            " ...\n",
            " [709 0 'Female' ... 0 1 42085.58]\n",
            " [772 1 'Male' ... 1 0 92888.52]\n",
            " [792 0 'Female' ... 1 0 38190.78]]\n"
          ]
        }
      ]
    },
    {
      "cell_type": "code",
      "source": [
        "labelencoder_x_2 = LabelEncoder()\n",
        "x[:, 2] = labelencoder_x_2.fit_transform(x[:, 2])"
      ],
      "metadata": {
        "id": "IzKrXCHxVlND"
      },
      "execution_count": 7,
      "outputs": []
    },
    {
      "cell_type": "code",
      "source": [
        "print(x)"
      ],
      "metadata": {
        "colab": {
          "base_uri": "https://localhost:8080/"
        },
        "id": "KQnnLlCtWC0a",
        "outputId": "e7f8f954-41bb-477b-8cf4-9cfa2fb7e42c"
      },
      "execution_count": 8,
      "outputs": [
        {
          "output_type": "stream",
          "name": "stdout",
          "text": [
            "[[619 0 0 ... 1 1 101348.88]\n",
            " [608 2 0 ... 0 1 112542.58]\n",
            " [502 0 0 ... 1 0 113931.57]\n",
            " ...\n",
            " [709 0 0 ... 0 1 42085.58]\n",
            " [772 1 1 ... 1 0 92888.52]\n",
            " [792 0 0 ... 1 0 38190.78]]\n"
          ]
        }
      ]
    },
    {
      "cell_type": "code",
      "source": [
        "from sklearn.compose import ColumnTransformer\n",
        "onehotencoder = ColumnTransformer([('one_hot_encoder', OneHotEncoder(),[1])], remainder = 'passthrough')\n",
        "x = onehotencoder.fit_transform(x)\n",
        "x = x[:, 1:]"
      ],
      "metadata": {
        "id": "hb06PN9nZ_J2"
      },
      "execution_count": 9,
      "outputs": []
    },
    {
      "cell_type": "code",
      "source": [
        "print(x)"
      ],
      "metadata": {
        "colab": {
          "base_uri": "https://localhost:8080/"
        },
        "id": "Ltd3JxcJdkHc",
        "outputId": "dfd77b3e-a2f9-4c7c-a5d0-b71b2c6a40d1"
      },
      "execution_count": 10,
      "outputs": [
        {
          "output_type": "stream",
          "name": "stdout",
          "text": [
            "[[0.0 0.0 619 ... 1 1 101348.88]\n",
            " [0.0 1.0 608 ... 0 1 112542.58]\n",
            " [0.0 0.0 502 ... 1 0 113931.57]\n",
            " ...\n",
            " [0.0 0.0 709 ... 0 1 42085.58]\n",
            " [1.0 0.0 772 ... 1 0 92888.52]\n",
            " [0.0 0.0 792 ... 1 0 38190.78]]\n"
          ]
        }
      ]
    },
    {
      "cell_type": "markdown",
      "source": [
        "# Spliting dataset into training set and test set"
      ],
      "metadata": {
        "id": "6MG2BmMmTOOb"
      }
    },
    {
      "cell_type": "code",
      "source": [
        "from sklearn.model_selection import train_test_split\n",
        "x_train, x_test, y_train, y_test = train_test_split(x, y, test_size=0.2, random_state=0)"
      ],
      "metadata": {
        "id": "ks15whwKdzRT"
      },
      "execution_count": 11,
      "outputs": []
    },
    {
      "cell_type": "code",
      "source": [
        "print(x_train)"
      ],
      "metadata": {
        "colab": {
          "base_uri": "https://localhost:8080/"
        },
        "id": "GqK9YxR2egK7",
        "outputId": "818ce43c-5309-484b-be79-60dd6e775a54"
      },
      "execution_count": 12,
      "outputs": [
        {
          "output_type": "stream",
          "name": "stdout",
          "text": [
            "[[0.0 1.0 667 ... 1 0 163830.64]\n",
            " [1.0 0.0 427 ... 1 1 57098.0]\n",
            " [0.0 0.0 535 ... 1 0 185630.76]\n",
            " ...\n",
            " [0.0 0.0 738 ... 1 0 181429.87]\n",
            " [0.0 1.0 590 ... 1 1 148750.16]\n",
            " [1.0 0.0 623 ... 1 0 118855.26]]\n"
          ]
        }
      ]
    },
    {
      "cell_type": "code",
      "source": [
        "print(y_train)"
      ],
      "metadata": {
        "colab": {
          "base_uri": "https://localhost:8080/"
        },
        "id": "YeBtPVQMei0R",
        "outputId": "00779724-220b-4d66-b58e-56b7c051745c"
      },
      "execution_count": 13,
      "outputs": [
        {
          "output_type": "stream",
          "name": "stdout",
          "text": [
            "[0 0 0 ... 0 0 1]\n"
          ]
        }
      ]
    },
    {
      "cell_type": "code",
      "source": [
        "print(x_test)"
      ],
      "metadata": {
        "colab": {
          "base_uri": "https://localhost:8080/"
        },
        "id": "tHyG34AWemHJ",
        "outputId": "00266e98-58b0-47dd-e01d-d0c2d5bca199"
      },
      "execution_count": 14,
      "outputs": [
        {
          "output_type": "stream",
          "name": "stdout",
          "text": [
            "[[1.0 0.0 597 ... 1 1 192852.67]\n",
            " [0.0 0.0 523 ... 1 0 128702.1]\n",
            " [0.0 1.0 706 ... 1 1 75732.25]\n",
            " ...\n",
            " [0.0 1.0 578 ... 1 0 141533.19]\n",
            " [1.0 0.0 650 ... 1 1 11276.48]\n",
            " [1.0 0.0 573 ... 1 0 192950.6]]\n"
          ]
        }
      ]
    },
    {
      "cell_type": "code",
      "source": [
        "print(y_test)"
      ],
      "metadata": {
        "colab": {
          "base_uri": "https://localhost:8080/"
        },
        "id": "IIFDBdZFeo3T",
        "outputId": "d1becad3-8fa5-430e-e464-66dcbe0d9cdb"
      },
      "execution_count": 15,
      "outputs": [
        {
          "output_type": "stream",
          "name": "stdout",
          "text": [
            "[0 1 0 ... 0 0 0]\n"
          ]
        }
      ]
    },
    {
      "cell_type": "markdown",
      "source": [
        "# Feature Scaling"
      ],
      "metadata": {
        "id": "kO8xeWuJgplT"
      }
    },
    {
      "cell_type": "code",
      "source": [
        "from sklearn.preprocessing import StandardScaler\n",
        "sc = StandardScaler()\n",
        "x_train = sc.fit_transform(x_train)\n",
        "x_test = sc.transform(x_test)"
      ],
      "metadata": {
        "id": "wJXKkukpgsF7"
      },
      "execution_count": 16,
      "outputs": []
    },
    {
      "cell_type": "code",
      "source": [
        "print(x_train)"
      ],
      "metadata": {
        "colab": {
          "base_uri": "https://localhost:8080/"
        },
        "id": "bGLucuoehaPs",
        "outputId": "0042a37c-5a5f-49fc-9f29-7b700e2371d4"
      },
      "execution_count": 17,
      "outputs": [
        {
          "output_type": "stream",
          "name": "stdout",
          "text": [
            "[[-0.5698444   1.74309049  0.16958176 ...  0.64259497 -1.03227043\n",
            "   1.10643166]\n",
            " [ 1.75486502 -0.57369368 -2.30455945 ...  0.64259497  0.9687384\n",
            "  -0.74866447]\n",
            " [-0.5698444  -0.57369368 -1.19119591 ...  0.64259497 -1.03227043\n",
            "   1.48533467]\n",
            " ...\n",
            " [-0.5698444  -0.57369368  0.9015152  ...  0.64259497 -1.03227043\n",
            "   1.41231994]\n",
            " [-0.5698444   1.74309049 -0.62420521 ...  0.64259497  0.9687384\n",
            "   0.84432121]\n",
            " [ 1.75486502 -0.57369368 -0.28401079 ...  0.64259497 -1.03227043\n",
            "   0.32472465]]\n"
          ]
        }
      ]
    },
    {
      "cell_type": "code",
      "source": [
        "print(x_test)"
      ],
      "metadata": {
        "colab": {
          "base_uri": "https://localhost:8080/"
        },
        "id": "mhuEmYLWhcKT",
        "outputId": "29153edc-ffba-4733-8d62-902b34b500e5"
      },
      "execution_count": 18,
      "outputs": [
        {
          "output_type": "stream",
          "name": "stdout",
          "text": [
            "[[ 1.75486502 -0.57369368 -0.55204276 ...  0.64259497  0.9687384\n",
            "   1.61085707]\n",
            " [-0.5698444  -0.57369368 -1.31490297 ...  0.64259497 -1.03227043\n",
            "   0.49587037]\n",
            " [-0.5698444   1.74309049  0.57162971 ...  0.64259497  0.9687384\n",
            "  -0.42478674]\n",
            " ...\n",
            " [-0.5698444   1.74309049 -0.74791227 ...  0.64259497 -1.03227043\n",
            "   0.71888467]\n",
            " [ 1.75486502 -0.57369368 -0.00566991 ...  0.64259497  0.9687384\n",
            "  -1.54507805]\n",
            " [ 1.75486502 -0.57369368 -0.79945688 ...  0.64259497 -1.03227043\n",
            "   1.61255917]]\n"
          ]
        }
      ]
    },
    {
      "cell_type": "markdown",
      "source": [
        "# Importing Libraries to Build ANN"
      ],
      "metadata": {
        "id": "NQ1wDi5IiFXz"
      }
    },
    {
      "cell_type": "code",
      "source": [
        "import keras\n",
        "from keras.models import Sequential\n",
        "from keras.layers import Dense"
      ],
      "metadata": {
        "id": "eOWL54HfiL_F"
      },
      "execution_count": 19,
      "outputs": []
    },
    {
      "cell_type": "markdown",
      "source": [
        "# Initialising the ANN"
      ],
      "metadata": {
        "id": "DBE3vciMYfYl"
      }
    },
    {
      "cell_type": "code",
      "source": [
        "classifier = Sequential()"
      ],
      "metadata": {
        "id": "Qj6TvO6lYlme"
      },
      "execution_count": 20,
      "outputs": []
    },
    {
      "cell_type": "markdown",
      "source": [
        "# Adding the input layer and first hidden layer"
      ],
      "metadata": {
        "id": "pXLItdCbY-A9"
      }
    },
    {
      "cell_type": "code",
      "source": [
        "# classifier.add(Dense(output_dim=6, init='uniform', activation='relu', input_dim=11))\n",
        "classifier.add(Dense(units = 6, kernel_initializer = 'uniform', activation = 'relu', input_dim = 11))"
      ],
      "metadata": {
        "id": "IOcbWLMgZCTx"
      },
      "execution_count": 22,
      "outputs": []
    }
  ]
}