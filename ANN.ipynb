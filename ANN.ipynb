{
  "nbformat": 4,
  "nbformat_minor": 0,
  "metadata": {
    "colab": {
      "provenance": [],
      "authorship_tag": "ABX9TyP2k5JWZSJET61evYP8bJ7K",
      "include_colab_link": true
    },
    "kernelspec": {
      "name": "python3",
      "display_name": "Python 3"
    },
    "language_info": {
      "name": "python"
    }
  },
  "cells": [
    {
      "cell_type": "markdown",
      "metadata": {
        "id": "view-in-github",
        "colab_type": "text"
      },
      "source": [
        "<a href=\"https://colab.research.google.com/github/Muntasir2179/Deep-Learning/blob/Artificial-Neural-Network-(ANN)/ANN.ipynb\" target=\"_parent\"><img src=\"https://colab.research.google.com/assets/colab-badge.svg\" alt=\"Open In Colab\"/></a>"
      ]
    },
    {
      "cell_type": "markdown",
      "source": [
        "# Importing Libraries"
      ],
      "metadata": {
        "id": "TT-DX-oBM_cS"
      }
    },
    {
      "cell_type": "code",
      "source": [
        "import numpy as np\n",
        "import matplotlib.pyplot as plt\n",
        "import pandas as pd"
      ],
      "metadata": {
        "id": "kMbgCQhWNE6d"
      },
      "execution_count": 1,
      "outputs": []
    },
    {
      "cell_type": "markdown",
      "source": [
        "# Importing dataset"
      ],
      "metadata": {
        "id": "5RT8wmlCQWUC"
      }
    },
    {
      "cell_type": "code",
      "source": [
        "dataset = pd.read_csv('Churn_Modelling.csv')\n",
        "x = dataset.iloc[:, 3:13].values\n",
        "y = dataset.iloc[:, 13].values"
      ],
      "metadata": {
        "id": "drjM_aHvQafC"
      },
      "execution_count": 2,
      "outputs": []
    },
    {
      "cell_type": "code",
      "source": [
        "print(x)"
      ],
      "metadata": {
        "colab": {
          "base_uri": "https://localhost:8080/"
        },
        "id": "5N9WUl6_S_xi",
        "outputId": "d1f5e88b-d0fe-4422-ed8d-f52a1b1e2eb5"
      },
      "execution_count": 3,
      "outputs": [
        {
          "output_type": "stream",
          "name": "stdout",
          "text": [
            "[[619 'France' 'Female' ... 1 1 101348.88]\n",
            " [608 'Spain' 'Female' ... 0 1 112542.58]\n",
            " [502 'France' 'Female' ... 1 0 113931.57]\n",
            " ...\n",
            " [709 'France' 'Female' ... 0 1 42085.58]\n",
            " [772 'Germany' 'Male' ... 1 0 92888.52]\n",
            " [792 'France' 'Female' ... 1 0 38190.78]]\n"
          ]
        }
      ]
    },
    {
      "cell_type": "code",
      "source": [
        "print(y)"
      ],
      "metadata": {
        "colab": {
          "base_uri": "https://localhost:8080/"
        },
        "id": "-c1_TuY5TB7S",
        "outputId": "2436f9ae-0dbe-4f57-e9c2-13d02db76a35"
      },
      "execution_count": 4,
      "outputs": [
        {
          "output_type": "stream",
          "name": "stdout",
          "text": [
            "[1 0 1 ... 1 1 0]\n"
          ]
        }
      ]
    },
    {
      "cell_type": "markdown",
      "source": [
        "# Encoding categorical variable"
      ],
      "metadata": {
        "id": "4ovujtzCTq5p"
      }
    },
    {
      "cell_type": "code",
      "source": [
        "from sklearn.preprocessing import LabelEncoder, OneHotEncoder\n",
        "labelencoder_x_1 = LabelEncoder()\n",
        "x[:, 1] = labelencoder_x_1.fit_transform(x[:, 1])"
      ],
      "metadata": {
        "id": "jY8wumsdTvQi"
      },
      "execution_count": 5,
      "outputs": []
    },
    {
      "cell_type": "code",
      "source": [
        "print(x)"
      ],
      "metadata": {
        "colab": {
          "base_uri": "https://localhost:8080/"
        },
        "id": "sCeqz6VAVoNp",
        "outputId": "dab3c77f-41ba-40bd-be36-ec2aee6b2504"
      },
      "execution_count": 6,
      "outputs": [
        {
          "output_type": "stream",
          "name": "stdout",
          "text": [
            "[[619 0 'Female' ... 1 1 101348.88]\n",
            " [608 2 'Female' ... 0 1 112542.58]\n",
            " [502 0 'Female' ... 1 0 113931.57]\n",
            " ...\n",
            " [709 0 'Female' ... 0 1 42085.58]\n",
            " [772 1 'Male' ... 1 0 92888.52]\n",
            " [792 0 'Female' ... 1 0 38190.78]]\n"
          ]
        }
      ]
    },
    {
      "cell_type": "code",
      "source": [
        "labelencoder_x_2 = LabelEncoder()\n",
        "x[:, 2] = labelencoder_x_2.fit_transform(x[:, 2])"
      ],
      "metadata": {
        "id": "IzKrXCHxVlND"
      },
      "execution_count": 7,
      "outputs": []
    },
    {
      "cell_type": "code",
      "source": [
        "print(x)"
      ],
      "metadata": {
        "colab": {
          "base_uri": "https://localhost:8080/"
        },
        "id": "KQnnLlCtWC0a",
        "outputId": "e7f8f954-41bb-477b-8cf4-9cfa2fb7e42c"
      },
      "execution_count": 8,
      "outputs": [
        {
          "output_type": "stream",
          "name": "stdout",
          "text": [
            "[[619 0 0 ... 1 1 101348.88]\n",
            " [608 2 0 ... 0 1 112542.58]\n",
            " [502 0 0 ... 1 0 113931.57]\n",
            " ...\n",
            " [709 0 0 ... 0 1 42085.58]\n",
            " [772 1 1 ... 1 0 92888.52]\n",
            " [792 0 0 ... 1 0 38190.78]]\n"
          ]
        }
      ]
    },
    {
      "cell_type": "code",
      "source": [
        "from sklearn.compose import ColumnTransformer\n",
        "onehotencoder = ColumnTransformer([('one_hot_encoder', OneHotEncoder(),[1])], remainder = 'passthrough')\n",
        "x = onehotencoder.fit_transform(x)\n",
        "x = x[:, 1:]"
      ],
      "metadata": {
        "id": "hb06PN9nZ_J2"
      },
      "execution_count": 9,
      "outputs": []
    },
    {
      "cell_type": "code",
      "source": [
        "print(x)"
      ],
      "metadata": {
        "colab": {
          "base_uri": "https://localhost:8080/"
        },
        "id": "Ltd3JxcJdkHc",
        "outputId": "dfd77b3e-a2f9-4c7c-a5d0-b71b2c6a40d1"
      },
      "execution_count": 10,
      "outputs": [
        {
          "output_type": "stream",
          "name": "stdout",
          "text": [
            "[[0.0 0.0 619 ... 1 1 101348.88]\n",
            " [0.0 1.0 608 ... 0 1 112542.58]\n",
            " [0.0 0.0 502 ... 1 0 113931.57]\n",
            " ...\n",
            " [0.0 0.0 709 ... 0 1 42085.58]\n",
            " [1.0 0.0 772 ... 1 0 92888.52]\n",
            " [0.0 0.0 792 ... 1 0 38190.78]]\n"
          ]
        }
      ]
    },
    {
      "cell_type": "markdown",
      "source": [
        "# Spliting dataset into training set and test set"
      ],
      "metadata": {
        "id": "6MG2BmMmTOOb"
      }
    },
    {
      "cell_type": "code",
      "source": [
        "from sklearn.model_selection import train_test_split\n",
        "x_train, x_test, y_train, y_test = train_test_split(x, y, test_size=0.2, random_state=0)"
      ],
      "metadata": {
        "id": "ks15whwKdzRT"
      },
      "execution_count": 11,
      "outputs": []
    },
    {
      "cell_type": "code",
      "source": [
        "print(x_train)"
      ],
      "metadata": {
        "colab": {
          "base_uri": "https://localhost:8080/"
        },
        "id": "GqK9YxR2egK7",
        "outputId": "818ce43c-5309-484b-be79-60dd6e775a54"
      },
      "execution_count": 12,
      "outputs": [
        {
          "output_type": "stream",
          "name": "stdout",
          "text": [
            "[[0.0 1.0 667 ... 1 0 163830.64]\n",
            " [1.0 0.0 427 ... 1 1 57098.0]\n",
            " [0.0 0.0 535 ... 1 0 185630.76]\n",
            " ...\n",
            " [0.0 0.0 738 ... 1 0 181429.87]\n",
            " [0.0 1.0 590 ... 1 1 148750.16]\n",
            " [1.0 0.0 623 ... 1 0 118855.26]]\n"
          ]
        }
      ]
    },
    {
      "cell_type": "code",
      "source": [
        "print(y_train)"
      ],
      "metadata": {
        "colab": {
          "base_uri": "https://localhost:8080/"
        },
        "id": "YeBtPVQMei0R",
        "outputId": "00779724-220b-4d66-b58e-56b7c051745c"
      },
      "execution_count": 13,
      "outputs": [
        {
          "output_type": "stream",
          "name": "stdout",
          "text": [
            "[0 0 0 ... 0 0 1]\n"
          ]
        }
      ]
    },
    {
      "cell_type": "code",
      "source": [
        "print(x_test)"
      ],
      "metadata": {
        "colab": {
          "base_uri": "https://localhost:8080/"
        },
        "id": "tHyG34AWemHJ",
        "outputId": "00266e98-58b0-47dd-e01d-d0c2d5bca199"
      },
      "execution_count": 14,
      "outputs": [
        {
          "output_type": "stream",
          "name": "stdout",
          "text": [
            "[[1.0 0.0 597 ... 1 1 192852.67]\n",
            " [0.0 0.0 523 ... 1 0 128702.1]\n",
            " [0.0 1.0 706 ... 1 1 75732.25]\n",
            " ...\n",
            " [0.0 1.0 578 ... 1 0 141533.19]\n",
            " [1.0 0.0 650 ... 1 1 11276.48]\n",
            " [1.0 0.0 573 ... 1 0 192950.6]]\n"
          ]
        }
      ]
    },
    {
      "cell_type": "code",
      "source": [
        "print(y_test)"
      ],
      "metadata": {
        "colab": {
          "base_uri": "https://localhost:8080/"
        },
        "id": "IIFDBdZFeo3T",
        "outputId": "d1becad3-8fa5-430e-e464-66dcbe0d9cdb"
      },
      "execution_count": 15,
      "outputs": [
        {
          "output_type": "stream",
          "name": "stdout",
          "text": [
            "[0 1 0 ... 0 0 0]\n"
          ]
        }
      ]
    },
    {
      "cell_type": "markdown",
      "source": [
        "# Feature Scaling"
      ],
      "metadata": {
        "id": "kO8xeWuJgplT"
      }
    },
    {
      "cell_type": "code",
      "source": [
        "from sklearn.preprocessing import StandardScaler\n",
        "sc = StandardScaler()\n",
        "x_train = sc.fit_transform(x_train)\n",
        "x_test = sc.transform(x_test)"
      ],
      "metadata": {
        "id": "wJXKkukpgsF7"
      },
      "execution_count": 16,
      "outputs": []
    },
    {
      "cell_type": "code",
      "source": [
        "print(x_train)"
      ],
      "metadata": {
        "colab": {
          "base_uri": "https://localhost:8080/"
        },
        "id": "bGLucuoehaPs",
        "outputId": "0042a37c-5a5f-49fc-9f29-7b700e2371d4"
      },
      "execution_count": 17,
      "outputs": [
        {
          "output_type": "stream",
          "name": "stdout",
          "text": [
            "[[-0.5698444   1.74309049  0.16958176 ...  0.64259497 -1.03227043\n",
            "   1.10643166]\n",
            " [ 1.75486502 -0.57369368 -2.30455945 ...  0.64259497  0.9687384\n",
            "  -0.74866447]\n",
            " [-0.5698444  -0.57369368 -1.19119591 ...  0.64259497 -1.03227043\n",
            "   1.48533467]\n",
            " ...\n",
            " [-0.5698444  -0.57369368  0.9015152  ...  0.64259497 -1.03227043\n",
            "   1.41231994]\n",
            " [-0.5698444   1.74309049 -0.62420521 ...  0.64259497  0.9687384\n",
            "   0.84432121]\n",
            " [ 1.75486502 -0.57369368 -0.28401079 ...  0.64259497 -1.03227043\n",
            "   0.32472465]]\n"
          ]
        }
      ]
    },
    {
      "cell_type": "code",
      "source": [
        "print(x_test)"
      ],
      "metadata": {
        "colab": {
          "base_uri": "https://localhost:8080/"
        },
        "id": "mhuEmYLWhcKT",
        "outputId": "29153edc-ffba-4733-8d62-902b34b500e5"
      },
      "execution_count": 18,
      "outputs": [
        {
          "output_type": "stream",
          "name": "stdout",
          "text": [
            "[[ 1.75486502 -0.57369368 -0.55204276 ...  0.64259497  0.9687384\n",
            "   1.61085707]\n",
            " [-0.5698444  -0.57369368 -1.31490297 ...  0.64259497 -1.03227043\n",
            "   0.49587037]\n",
            " [-0.5698444   1.74309049  0.57162971 ...  0.64259497  0.9687384\n",
            "  -0.42478674]\n",
            " ...\n",
            " [-0.5698444   1.74309049 -0.74791227 ...  0.64259497 -1.03227043\n",
            "   0.71888467]\n",
            " [ 1.75486502 -0.57369368 -0.00566991 ...  0.64259497  0.9687384\n",
            "  -1.54507805]\n",
            " [ 1.75486502 -0.57369368 -0.79945688 ...  0.64259497 -1.03227043\n",
            "   1.61255917]]\n"
          ]
        }
      ]
    },
    {
      "cell_type": "markdown",
      "source": [
        "# Importing Libraries to Build ANN"
      ],
      "metadata": {
        "id": "NQ1wDi5IiFXz"
      }
    },
    {
      "cell_type": "code",
      "source": [
        "import keras\n",
        "from keras.models import Sequential\n",
        "from keras.layers import Dense"
      ],
      "metadata": {
        "id": "eOWL54HfiL_F"
      },
      "execution_count": 19,
      "outputs": []
    },
    {
      "cell_type": "markdown",
      "source": [
        "# Initialising the ANN"
      ],
      "metadata": {
        "id": "DBE3vciMYfYl"
      }
    },
    {
      "cell_type": "code",
      "source": [
        "classifier = Sequential()"
      ],
      "metadata": {
        "id": "Qj6TvO6lYlme"
      },
      "execution_count": 20,
      "outputs": []
    },
    {
      "cell_type": "markdown",
      "source": [
        "# Adding the input layer and first hidden layer"
      ],
      "metadata": {
        "id": "pXLItdCbY-A9"
      }
    },
    {
      "cell_type": "code",
      "source": [
        "# classifier.add(Dense(output_dim=6, init='uniform', activation='relu', input_dim=11))\n",
        "classifier.add(Dense(units = 6, kernel_initializer = 'uniform', activation = 'relu', input_dim = 11))\n",
        "# input_dim = 11 to specify the number of independent variable in the dataset because no layer has been created before"
      ],
      "metadata": {
        "id": "IOcbWLMgZCTx"
      },
      "execution_count": 22,
      "outputs": []
    },
    {
      "cell_type": "markdown",
      "source": [
        "# Adding the second hidden layer"
      ],
      "metadata": {
        "id": "pVl8DnTgd5Qu"
      }
    },
    {
      "cell_type": "code",
      "source": [
        "classifier.add(Dense(units = 6, kernel_initializer = 'uniform', activation = 'relu'))"
      ],
      "metadata": {
        "id": "mHTknNfxd9Cg"
      },
      "execution_count": 23,
      "outputs": []
    },
    {
      "cell_type": "markdown",
      "source": [
        "# Adding the output layer"
      ],
      "metadata": {
        "id": "J4Tm13z1fH_K"
      }
    },
    {
      "cell_type": "code",
      "source": [
        "classifier.add(Dense(units = 1, kernel_initializer = 'uniform', activation = 'sigmoid'))\n",
        "# we want only one output in the output layer that's why units = 1\n",
        "# we have two categories in the dependent variable\n",
        "# if we have more that two categories in the dependent variable then we need to use activation='softmax'"
      ],
      "metadata": {
        "id": "-i8jmcgffK6n"
      },
      "execution_count": 25,
      "outputs": []
    },
    {
      "cell_type": "markdown",
      "source": [
        "# Compiling the ANN"
      ],
      "metadata": {
        "id": "hUMl6xB1rVaZ"
      }
    },
    {
      "cell_type": "code",
      "source": [
        "classifier.compile(optimizer = 'adam', loss = 'binary_crossentropy', metrics = ['accuracy'])\n",
        "# optimizer = 'adam' is for stochastic gradient descent algorithm\n",
        "# loss = 'binary_crossentropy' this corresponds to the loss function within the adam stochastic gradient descent algorithm\n",
        "# metrics = ['accuracy'] is to evaluate and improve our model"
      ],
      "metadata": {
        "id": "fssKL4DxrZRv"
      },
      "execution_count": 27,
      "outputs": []
    },
    {
      "cell_type": "markdown",
      "source": [
        "# Fitting the ANN to the training set"
      ],
      "metadata": {
        "id": "y8bqF6n4xl0g"
      }
    },
    {
      "cell_type": "code",
      "source": [
        "classifier.fit(x_train, y_train, batch_size=10, epochs=100)"
      ],
      "metadata": {
        "colab": {
          "base_uri": "https://localhost:8080/"
        },
        "id": "3PaaUhoNxrAn",
        "outputId": "df9d0059-1b84-4d75-9a20-6f494ad99f70"
      },
      "execution_count": 29,
      "outputs": [
        {
          "output_type": "stream",
          "name": "stdout",
          "text": [
            "Epoch 1/100\n",
            "800/800 [==============================] - 6s 4ms/step - loss: 0.5788 - accuracy: 0.7825\n",
            "Epoch 2/100\n",
            "800/800 [==============================] - 2s 2ms/step - loss: 0.4733 - accuracy: 0.7960\n",
            "Epoch 3/100\n",
            "800/800 [==============================] - 1s 2ms/step - loss: 0.4523 - accuracy: 0.7960\n",
            "Epoch 4/100\n",
            "800/800 [==============================] - 2s 3ms/step - loss: 0.4442 - accuracy: 0.7960\n",
            "Epoch 5/100\n",
            "800/800 [==============================] - 2s 2ms/step - loss: 0.4389 - accuracy: 0.7960\n",
            "Epoch 6/100\n",
            "800/800 [==============================] - 1s 2ms/step - loss: 0.4350 - accuracy: 0.7960\n",
            "Epoch 7/100\n",
            "800/800 [==============================] - 2s 2ms/step - loss: 0.4312 - accuracy: 0.7960\n",
            "Epoch 8/100\n",
            "800/800 [==============================] - 2s 2ms/step - loss: 0.4274 - accuracy: 0.7960\n",
            "Epoch 9/100\n",
            "800/800 [==============================] - 1s 2ms/step - loss: 0.4239 - accuracy: 0.7960\n",
            "Epoch 10/100\n",
            "800/800 [==============================] - 2s 2ms/step - loss: 0.4202 - accuracy: 0.7960\n",
            "Epoch 11/100\n",
            "800/800 [==============================] - 2s 2ms/step - loss: 0.4159 - accuracy: 0.7960\n",
            "Epoch 12/100\n",
            "800/800 [==============================] - 2s 3ms/step - loss: 0.4100 - accuracy: 0.7960\n",
            "Epoch 13/100\n",
            "800/800 [==============================] - 1s 2ms/step - loss: 0.4024 - accuracy: 0.8231\n",
            "Epoch 14/100\n",
            "800/800 [==============================] - 2s 2ms/step - loss: 0.3959 - accuracy: 0.8284\n",
            "Epoch 15/100\n",
            "800/800 [==============================] - 1s 2ms/step - loss: 0.3889 - accuracy: 0.8295\n",
            "Epoch 16/100\n",
            "800/800 [==============================] - 2s 2ms/step - loss: 0.3847 - accuracy: 0.8385\n",
            "Epoch 17/100\n",
            "800/800 [==============================] - 2s 2ms/step - loss: 0.3800 - accuracy: 0.8486\n",
            "Epoch 18/100\n",
            "800/800 [==============================] - 2s 2ms/step - loss: 0.3770 - accuracy: 0.8494\n",
            "Epoch 19/100\n",
            "800/800 [==============================] - 2s 2ms/step - loss: 0.3744 - accuracy: 0.8512\n",
            "Epoch 20/100\n",
            "800/800 [==============================] - 2s 3ms/step - loss: 0.3722 - accuracy: 0.8512\n",
            "Epoch 21/100\n",
            "800/800 [==============================] - 1s 2ms/step - loss: 0.3704 - accuracy: 0.8528\n",
            "Epoch 22/100\n",
            "800/800 [==============================] - 2s 2ms/step - loss: 0.3678 - accuracy: 0.8550\n",
            "Epoch 23/100\n",
            "800/800 [==============================] - 2s 2ms/step - loss: 0.3664 - accuracy: 0.8533\n",
            "Epoch 24/100\n",
            "800/800 [==============================] - 2s 2ms/step - loss: 0.3657 - accuracy: 0.8547\n",
            "Epoch 25/100\n",
            "800/800 [==============================] - 2s 2ms/step - loss: 0.3645 - accuracy: 0.8545\n",
            "Epoch 26/100\n",
            "800/800 [==============================] - 2s 3ms/step - loss: 0.3628 - accuracy: 0.8580\n",
            "Epoch 27/100\n",
            "800/800 [==============================] - 2s 3ms/step - loss: 0.3630 - accuracy: 0.8560\n",
            "Epoch 28/100\n",
            "800/800 [==============================] - 2s 2ms/step - loss: 0.3610 - accuracy: 0.8547\n",
            "Epoch 29/100\n",
            "800/800 [==============================] - 2s 2ms/step - loss: 0.3605 - accuracy: 0.8558\n",
            "Epoch 30/100\n",
            "800/800 [==============================] - 1s 2ms/step - loss: 0.3596 - accuracy: 0.8585\n",
            "Epoch 31/100\n",
            "800/800 [==============================] - 2s 2ms/step - loss: 0.3592 - accuracy: 0.8580\n",
            "Epoch 32/100\n",
            "800/800 [==============================] - 1s 2ms/step - loss: 0.3587 - accuracy: 0.8562\n",
            "Epoch 33/100\n",
            "800/800 [==============================] - 2s 2ms/step - loss: 0.3581 - accuracy: 0.8576\n",
            "Epoch 34/100\n",
            "800/800 [==============================] - 2s 3ms/step - loss: 0.3575 - accuracy: 0.8589\n",
            "Epoch 35/100\n",
            "800/800 [==============================] - 2s 2ms/step - loss: 0.3576 - accuracy: 0.8575\n",
            "Epoch 36/100\n",
            "800/800 [==============================] - 2s 2ms/step - loss: 0.3568 - accuracy: 0.8589\n",
            "Epoch 37/100\n",
            "800/800 [==============================] - 2s 2ms/step - loss: 0.3574 - accuracy: 0.8575\n",
            "Epoch 38/100\n",
            "800/800 [==============================] - 2s 2ms/step - loss: 0.3559 - accuracy: 0.8559\n",
            "Epoch 39/100\n",
            "800/800 [==============================] - 2s 2ms/step - loss: 0.3548 - accuracy: 0.8577\n",
            "Epoch 40/100\n",
            "800/800 [==============================] - 1s 2ms/step - loss: 0.3545 - accuracy: 0.8591\n",
            "Epoch 41/100\n",
            "800/800 [==============================] - 2s 2ms/step - loss: 0.3544 - accuracy: 0.8585\n",
            "Epoch 42/100\n",
            "800/800 [==============================] - 2s 3ms/step - loss: 0.3552 - accuracy: 0.8570\n",
            "Epoch 43/100\n",
            "800/800 [==============================] - 2s 2ms/step - loss: 0.3543 - accuracy: 0.8577\n",
            "Epoch 44/100\n",
            "800/800 [==============================] - 2s 2ms/step - loss: 0.3542 - accuracy: 0.8572\n",
            "Epoch 45/100\n",
            "800/800 [==============================] - 2s 2ms/step - loss: 0.3537 - accuracy: 0.8590\n",
            "Epoch 46/100\n",
            "800/800 [==============================] - 2s 2ms/step - loss: 0.3526 - accuracy: 0.8583\n",
            "Epoch 47/100\n",
            "800/800 [==============================] - 2s 2ms/step - loss: 0.3534 - accuracy: 0.8593\n",
            "Epoch 48/100\n",
            "800/800 [==============================] - 2s 2ms/step - loss: 0.3525 - accuracy: 0.8589\n",
            "Epoch 49/100\n",
            "800/800 [==============================] - 2s 2ms/step - loss: 0.3516 - accuracy: 0.8616\n",
            "Epoch 50/100\n",
            "800/800 [==============================] - 2s 3ms/step - loss: 0.3522 - accuracy: 0.8606\n",
            "Epoch 51/100\n",
            "800/800 [==============================] - 2s 2ms/step - loss: 0.3517 - accuracy: 0.8583\n",
            "Epoch 52/100\n",
            "800/800 [==============================] - 2s 2ms/step - loss: 0.3525 - accuracy: 0.8566\n",
            "Epoch 53/100\n",
            "800/800 [==============================] - 2s 2ms/step - loss: 0.3520 - accuracy: 0.8596\n",
            "Epoch 54/100\n",
            "800/800 [==============================] - 2s 2ms/step - loss: 0.3525 - accuracy: 0.8610\n",
            "Epoch 55/100\n",
            "800/800 [==============================] - 2s 2ms/step - loss: 0.3509 - accuracy: 0.8596\n",
            "Epoch 56/100\n",
            "800/800 [==============================] - 2s 2ms/step - loss: 0.3508 - accuracy: 0.8565\n",
            "Epoch 57/100\n",
            "800/800 [==============================] - 2s 2ms/step - loss: 0.3512 - accuracy: 0.8594\n",
            "Epoch 58/100\n",
            "800/800 [==============================] - 2s 3ms/step - loss: 0.3510 - accuracy: 0.8579\n",
            "Epoch 59/100\n",
            "800/800 [==============================] - 2s 2ms/step - loss: 0.3506 - accuracy: 0.8585\n",
            "Epoch 60/100\n",
            "800/800 [==============================] - 2s 2ms/step - loss: 0.3513 - accuracy: 0.8614\n",
            "Epoch 61/100\n",
            "800/800 [==============================] - 2s 3ms/step - loss: 0.3522 - accuracy: 0.8579\n",
            "Epoch 62/100\n",
            "800/800 [==============================] - 2s 3ms/step - loss: 0.3507 - accuracy: 0.8579\n",
            "Epoch 63/100\n",
            "800/800 [==============================] - 2s 2ms/step - loss: 0.3508 - accuracy: 0.8597\n",
            "Epoch 64/100\n",
            "800/800 [==============================] - 2s 3ms/step - loss: 0.3511 - accuracy: 0.8553\n",
            "Epoch 65/100\n",
            "800/800 [==============================] - 2s 2ms/step - loss: 0.3508 - accuracy: 0.8587\n",
            "Epoch 66/100\n",
            "800/800 [==============================] - 2s 2ms/step - loss: 0.3509 - accuracy: 0.8596\n",
            "Epoch 67/100\n",
            "800/800 [==============================] - 2s 2ms/step - loss: 0.3513 - accuracy: 0.8577\n",
            "Epoch 68/100\n",
            "800/800 [==============================] - 2s 2ms/step - loss: 0.3502 - accuracy: 0.8585\n",
            "Epoch 69/100\n",
            "800/800 [==============================] - 1s 2ms/step - loss: 0.3504 - accuracy: 0.8585\n",
            "Epoch 70/100\n",
            "800/800 [==============================] - 2s 2ms/step - loss: 0.3502 - accuracy: 0.8602\n",
            "Epoch 71/100\n",
            "800/800 [==============================] - 2s 2ms/step - loss: 0.3500 - accuracy: 0.8586\n",
            "Epoch 72/100\n",
            "800/800 [==============================] - 2s 3ms/step - loss: 0.3492 - accuracy: 0.8584\n",
            "Epoch 73/100\n",
            "800/800 [==============================] - 2s 2ms/step - loss: 0.3489 - accuracy: 0.8584\n",
            "Epoch 74/100\n",
            "800/800 [==============================] - 2s 2ms/step - loss: 0.3494 - accuracy: 0.8600\n",
            "Epoch 75/100\n",
            "800/800 [==============================] - 2s 2ms/step - loss: 0.3507 - accuracy: 0.8561\n",
            "Epoch 76/100\n",
            "800/800 [==============================] - 2s 2ms/step - loss: 0.3490 - accuracy: 0.8589\n",
            "Epoch 77/100\n",
            "800/800 [==============================] - 2s 2ms/step - loss: 0.3494 - accuracy: 0.8575\n",
            "Epoch 78/100\n",
            "800/800 [==============================] - 2s 2ms/step - loss: 0.3491 - accuracy: 0.8585\n",
            "Epoch 79/100\n",
            "800/800 [==============================] - 2s 2ms/step - loss: 0.3498 - accuracy: 0.8590\n",
            "Epoch 80/100\n",
            "800/800 [==============================] - 2s 3ms/step - loss: 0.3491 - accuracy: 0.8583\n",
            "Epoch 81/100\n",
            "800/800 [==============================] - 2s 2ms/step - loss: 0.3502 - accuracy: 0.8561\n",
            "Epoch 82/100\n",
            "800/800 [==============================] - 2s 2ms/step - loss: 0.3488 - accuracy: 0.8604\n",
            "Epoch 83/100\n",
            "800/800 [==============================] - 2s 2ms/step - loss: 0.3492 - accuracy: 0.8584\n",
            "Epoch 84/100\n",
            "800/800 [==============================] - 2s 2ms/step - loss: 0.3501 - accuracy: 0.8581\n",
            "Epoch 85/100\n",
            "800/800 [==============================] - 2s 2ms/step - loss: 0.3492 - accuracy: 0.8576\n",
            "Epoch 86/100\n",
            "800/800 [==============================] - 2s 2ms/step - loss: 0.3487 - accuracy: 0.8580\n",
            "Epoch 87/100\n",
            "800/800 [==============================] - 2s 2ms/step - loss: 0.3496 - accuracy: 0.8585\n",
            "Epoch 88/100\n",
            "800/800 [==============================] - 2s 2ms/step - loss: 0.3484 - accuracy: 0.8594\n",
            "Epoch 89/100\n",
            "800/800 [==============================] - 2s 2ms/step - loss: 0.3486 - accuracy: 0.8595\n",
            "Epoch 90/100\n",
            "800/800 [==============================] - 2s 2ms/step - loss: 0.3485 - accuracy: 0.8614\n",
            "Epoch 91/100\n",
            "800/800 [==============================] - 2s 2ms/step - loss: 0.3485 - accuracy: 0.8583\n",
            "Epoch 92/100\n",
            "800/800 [==============================] - 2s 2ms/step - loss: 0.3486 - accuracy: 0.8601\n",
            "Epoch 93/100\n",
            "800/800 [==============================] - 2s 2ms/step - loss: 0.3478 - accuracy: 0.8589\n",
            "Epoch 94/100\n",
            "800/800 [==============================] - 2s 2ms/step - loss: 0.3494 - accuracy: 0.8593\n",
            "Epoch 95/100\n",
            "800/800 [==============================] - 2s 3ms/step - loss: 0.3480 - accuracy: 0.8610\n",
            "Epoch 96/100\n",
            "800/800 [==============================] - 2s 2ms/step - loss: 0.3489 - accuracy: 0.8579\n",
            "Epoch 97/100\n",
            "800/800 [==============================] - 2s 3ms/step - loss: 0.3483 - accuracy: 0.8602\n",
            "Epoch 98/100\n",
            "800/800 [==============================] - 2s 2ms/step - loss: 0.3482 - accuracy: 0.8574\n",
            "Epoch 99/100\n",
            "800/800 [==============================] - 2s 2ms/step - loss: 0.3490 - accuracy: 0.8599\n",
            "Epoch 100/100\n",
            "800/800 [==============================] - 2s 2ms/step - loss: 0.3486 - accuracy: 0.8602\n"
          ]
        },
        {
          "output_type": "execute_result",
          "data": {
            "text/plain": [
              "<keras.callbacks.History at 0x7ffa90db7ca0>"
            ]
          },
          "metadata": {},
          "execution_count": 29
        }
      ]
    },
    {
      "cell_type": "markdown",
      "source": [
        "# Predicting the test set results"
      ],
      "metadata": {
        "id": "GegGuOWn15cE"
      }
    },
    {
      "cell_type": "code",
      "source": [
        "y_pred = classifier.predict(x_test)\n",
        "y_pred = (y_pred > 0.5)"
      ],
      "metadata": {
        "colab": {
          "base_uri": "https://localhost:8080/"
        },
        "id": "5etobd5_19_Q",
        "outputId": "df630082-d166-4f4e-fc45-e7cbd14f18dd"
      },
      "execution_count": 32,
      "outputs": [
        {
          "output_type": "stream",
          "name": "stdout",
          "text": [
            "63/63 [==============================] - 0s 1ms/step\n"
          ]
        }
      ]
    },
    {
      "cell_type": "code",
      "source": [
        "print(y_pred)"
      ],
      "metadata": {
        "colab": {
          "base_uri": "https://localhost:8080/"
        },
        "id": "cRy3wfjG2Kio",
        "outputId": "743366a6-23d9-457c-9f9f-a91d906c3786"
      },
      "execution_count": 33,
      "outputs": [
        {
          "output_type": "stream",
          "name": "stdout",
          "text": [
            "[[False]\n",
            " [False]\n",
            " [False]\n",
            " ...\n",
            " [False]\n",
            " [False]\n",
            " [False]]\n"
          ]
        }
      ]
    },
    {
      "cell_type": "markdown",
      "source": [
        "# Making the confussion matrix"
      ],
      "metadata": {
        "id": "cja_aULu2WJz"
      }
    },
    {
      "cell_type": "code",
      "source": [
        "from sklearn.metrics import confusion_matrix\n",
        "cm = confusion_matrix(y_test, y_pred)"
      ],
      "metadata": {
        "id": "2U5dFtTU2bng"
      },
      "execution_count": 37,
      "outputs": []
    },
    {
      "cell_type": "code",
      "source": [
        "print(cm)"
      ],
      "metadata": {
        "colab": {
          "base_uri": "https://localhost:8080/"
        },
        "id": "vyqTY6Ny37jp",
        "outputId": "c9bdf7fd-1ce9-427e-8edd-500d0dc6a143"
      },
      "execution_count": 38,
      "outputs": [
        {
          "output_type": "stream",
          "name": "stdout",
          "text": [
            "[[1479  116]\n",
            " [ 168  237]]\n"
          ]
        }
      ]
    },
    {
      "cell_type": "code",
      "source": [
        "print('Accuracy: ', (1479 + 237)/2000)"
      ],
      "metadata": {
        "colab": {
          "base_uri": "https://localhost:8080/"
        },
        "id": "U-s8WNe74XPn",
        "outputId": "6686d31d-f043-4a7e-9e7b-ed854a6700ea"
      },
      "execution_count": 39,
      "outputs": [
        {
          "output_type": "stream",
          "name": "stdout",
          "text": [
            "Accuracy:  0.858\n"
          ]
        }
      ]
    }
  ]
}